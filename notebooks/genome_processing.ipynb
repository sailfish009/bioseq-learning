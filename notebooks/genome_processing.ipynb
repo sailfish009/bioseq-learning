{
 "cells": [
  {
   "cell_type": "markdown",
   "metadata": {
    "collapsed": true,
    "pycharm": {
     "name": "#%% md\n"
    }
   },
   "source": [
    "This notebook demonstrates how to parse genome download from [PATRIC](https://www.patricbrc.org/), including reading, CD searching, and printing.\n",
    "\n",
    "[PATRIC USER GUIDES/FTP](https://docs.patricbrc.org/user_guides/ftp.html):\n",
    "> Each genome directory provides the following data files for PATRIC and RefSeq annotations (when available).\n",
    "- fna: FASTA contig sequences\n",
    "- faa: FASTA protein sequence file\n",
    "- features.tab: All genomic features and related information in tab-delimited format\n",
    "- ffn: FASTA nucleotide sequences for genomic features, i.e. genes, RNAs, and other misc features\n",
    "- frn: FASTA nucleotide sequences for RNAs\n",
    "- gff: Genome annotations in GFF file format\n",
    "- pathway.tab: Metabolic pathway assignments in tab-delimited format\n",
    "- spgene.tab: Specialty gene assignments (i.e. AMR genes, virulance factors, essential genes, etc) in tab-delimited format\n",
    "- subsystem.tab: Subsystem assignments in tab-delimited format\n"
   ]
  },
  {
   "cell_type": "code",
   "source": [
    "import io\n",
    "import os\n",
    "import json\n",
    "import time\n",
    "\n",
    "import pandas as pd\n",
    "from Bio import SeqIO\n",
    "from Bio.Blast import NCBIXML\n",
    "from Bio.Blast.Record import Alignment, HSP\n",
    "from Bio.Blast.Record import Blast as BlastResult\n",
    "from Bio.Blast.Applications import NcbirpstblastnCommandline\n",
    "\n",
    "# path to CDD (conserved domain database) and related info\n",
    "CDD_PATH = os.path.abspath('../data/interim/CDD/Cdd')\n",
    "RPSBLAST_KWARGS = {\n",
    "    'db': CDD_PATH,\n",
    "    'seg': 'no',\n",
    "    'comp_based_stats': '1',\n",
    "    'evalue': 0.01,\n",
    "    'outfmt': 5,\n",
    "    'num_threads': 16,\n",
    "}\n",
    "\n",
    "# path to all the genomes (downloaded from PATRIC directly)\n",
    "GENOME_PARENT_PATH = os.path.abspath('./genome_parsing_examples')\n"
   ],
   "metadata": {
    "collapsed": false,
    "pycharm": {
     "name": "#%% imports, constants for paths and configurations\n"
    }
   },
   "execution_count": 4,
   "outputs": []
  },
  {
   "cell_type": "code",
   "execution_count": 2,
   "outputs": [
    {
     "name": "stdout",
     "output_type": "stream",
     "text": [
      "Genome 83333.84 contains 1 contig(s) and 4357 features (genes, RNAs, etc.)\n",
      "Genome 562.2282 contains 248 contig(s) and 4196 features (genes, RNAs, etc.)\n",
      "Genome 37762.5 contains 1 contig(s) and 4477 features (genes, RNAs, etc.)\n"
     ]
    }
   ],
   "source": [
    "# get all the genome names (PATRIC ID)\n",
    "genome_ids = next(os.walk(GENOME_PARENT_PATH))[1]\n",
    "\n",
    "for _genome_id in genome_ids:\n",
    "    _genome_path = os.path.join(GENOME_PARENT_PATH, _genome_id)\n",
    "\n",
    "    # get the nucleotide sequences (whole contig and the one with features only)\n",
    "    _cntg_seq_path = os.path.join(_genome_path, _genome_id + '.fna')\n",
    "    _cntg_seq_records = list(SeqIO.parse(_cntg_seq_path, 'fasta'))\n",
    "    _feat_seq_path = os.path.join(_genome_path, _genome_id + '.PATRIC.ffn')\n",
    "    _feat_seq_records = list(SeqIO.parse(_feat_seq_path, 'fasta'))\n",
    "\n",
    "    print(f'Genome {_genome_id} contains '\n",
    "      f'{len(_cntg_seq_records)} contig(s) and '\n",
    "      f'{len(_feat_seq_records)} features (genes, RNAs, etc.)')\n",
    "\n",
    "    # make directory for contigs ...\n",
    "    _cntg_path = os.path.join(_genome_path, 'contigs')\n",
    "    if not os.path.isdir(_cntg_path):\n",
    "        os.makedirs(_cntg_path)\n",
    "\n",
    "    # split contigs and write into different files named with their IDs\n",
    "    _num_cntg = len(_cntg_seq_records)\n",
    "    _cntg_dict = {}\n",
    "    for _cntg_seq_record in _cntg_seq_records:\n",
    "        _cntg_dict[_cntg_seq_record.id] = {'length': len(_cntg_seq_record)}\n",
    "        with open(os.path.join(_genome_path, 'contigs', f'{_cntg_seq_record.id}.fna'), 'w+') as f:\n",
    "            SeqIO.write(_cntg_seq_record, f, 'fasta')\n",
    "\n",
    "    # split features for each and every contig the same way\n",
    "    # features are saved in TSV format (default pandas setting)\n",
    "    _feat_path = os.path.join(_genome_path, 'features')\n",
    "    if not os.path.isdir(_feat_path):\n",
    "        os.makedirs(_feat_path)\n",
    "    _feat_df = pd.read_table(os.path.join(_genome_path,  f'{_genome_id}.PATRIC.features.tab'))\n",
    "    for _accession, _feat_by_accession_df in _feat_df.groupby('accession'):\n",
    "        _source_mask = _feat_by_accession_df['feature_type'] == 'source'\n",
    "        _feat_by_accession_df[~_source_mask].to_csv(os.path.join(_feat_path, f'{_accession}.tsv'), index=None, sep='\\t')\n",
    "\n",
    "    # create an information file that contains\n",
    "    # - genome name\n",
    "    # - number of contigs\n",
    "    # - each contig accession and its length (maybe information for genes and CDs?)\n",
    "    _genome_info = {\n",
    "        'genome_name': _feat_df['genome_name'].unique()[0],\n",
    "        'number_of_contigs': _num_cntg,\n",
    "        'contigs': _cntg_dict,\n",
    "    }\n",
    "\n",
    "    with open(os.path.join(_genome_path, 'info.json'), 'w+') as f:\n",
    "        json.dump(_genome_info, f, indent=4)\n"
   ],
   "metadata": {
    "collapsed": false,
    "pycharm": {
     "name": "#%% seperate contigs (both sequences and their features)\n"
    }
   }
  },
  {
   "cell_type": "code",
   "execution_count": null,
   "outputs": [],
   "source": [
    "# the following statement is for rpsblast with translated nucleotide sequences\n",
    "# make sure of the following before proceed to conserved domain search:\n",
    "#   - the features in *.ffn and *.features.tab are directly sampled from the contigs\n",
    "#       - start, end, and name should be matched both ...\n",
    "#   - the protein sequences in *.faa file belong to a subset of the features in *.ffn and *.features.tab\n",
    "#   - every protein in *.faa file could be translated from a feature nucleotide in *.ffn and *.features.tab\n",
    "#       - use Biopython Seq.translate() for verification ...\n",
    "#       - what about the introns ...\n",
    "#       - strand ...\n",
    "\n",
    "for _genome_id in genome_ids:\n",
    "    _genome_path = os.path.join(GENOME_PARENT_PATH, _genome_id)\n",
    "    _cntg_cd_path = os.path.join(_genome_path, 'conserved_domains')\n",
    "    if not os.path.isdir(_cntg_cd_path):\n",
    "        os.makedirs(_cntg_cd_path)\n",
    "\n",
    "    # get all the contigs and iterate through for conserved domain search\n",
    "    with open(os.path.join(_genome_path, 'info.json'), 'r') as f:\n",
    "        _genome_info = json.load(f)\n",
    "    _cntg_ids = _genome_info['contigs'].keys()\n",
    "\n",
    "    _start_time = time.time()\n",
    "    for _cntg_id in _cntg_ids:\n",
    "        _cntg_path = os.path.join(_genome_path, 'contigs', f'{_cntg_id}.fna')\n",
    "        _cntg_rpsblast_cmd = NcbirpstblastnCommandline(query=_cntg_path, **RPSBLAST_KWARGS)\n",
    "        _cntg_cd_result, _cntg_rpsblast_cmd_error_msg = _cntg_rpsblast_cmd()\n",
    "        _cntg_cd_result_path = os.path.join(_cntg_cd_path, f'{_cntg_id}.xml')\n",
    "        with open(_cntg_cd_result_path, 'w+') as f:\n",
    "            f.write(_cntg_cd_result)\n",
    "    _exe_time = (time.time() - _start_time).strftime('%H hours, %M minutes, and %S seconds')\n",
    "    print(f'The execution time for RPSBLAST on all contigs of {_genome_id} is {_exe_time}')\n"
   ],
   "metadata": {
    "collapsed": false,
    "pycharm": {
     "name": "#%% conserved domain search over the protein seqence file ...\n",
     "is_executing": true
    }
   }
  },
  {
   "cell_type": "code",
   "execution_count": null,
   "outputs": [],
   "source": [
    "# function that transforms RPSBLAST result in XML format to dataframe\n",
    "def _rpsblast_xml_to_alignment_df(rpsblast_xml_path):\n",
    "\n",
    "    _fh = open(rpsblast_xml_path, 'r')\n",
    "    rpsblast_records = NCBIXML.parse(_fh)\n",
    "\n",
    "    for rpsblast_record in rpsblast_records:\n",
    "        # print(rpsblast_record.header)\n",
    "        print(type(rpsblast_record))\n",
    "\n",
    "        print(f'There are {len(rpsblast_record.alignments)} rpsblast alignments ...')\n",
    "\n",
    "        alignment_header = (\n",
    "            'title',\n",
    "            'id',\n",
    "            'def',\n",
    "            'score',\n",
    "            'e-value',\n",
    "            'start',\n",
    "            'end',\n",
    "            'length',\n",
    "        )\n",
    "\n",
    "        # iterate through every alignment record and include them into the dataframe\n",
    "        alignment_list = []\n",
    "        _alignment: Alignment\n",
    "        for _alignment in rpsblast_record.alignments:\n",
    "\n",
    "            # _title = (_alignment.title[:32] + \" ...\") if len(_alignment.title) > 32 \\\n",
    "            #     else _alignment.title\n",
    "            _title = _alignment.title\n",
    "            _hit_id = _alignment.hit_id\n",
    "            # _hit_def = (_alignment.hit_def[:32] + \" ...\") if len(_alignment.hit_def) > 32 \\\n",
    "            #     else _alignment.hit_def\n",
    "            _hit_def = _alignment.hit_def\n",
    "\n",
    "            _hsp: HSP\n",
    "            for _hsp in _alignment.hsps:\n",
    "\n",
    "                _score = _hsp.score\n",
    "                _expect = _hsp.expect\n",
    "                _start = _hsp.query_start\n",
    "                _end = _hsp.query_end\n",
    "                _length = _hsp.align_length\n",
    "\n",
    "                alignment_list.append([\n",
    "                    _title,\n",
    "                    _hit_id,\n",
    "                    _hit_def,\n",
    "                    _score,\n",
    "                    _expect,\n",
    "                    _start,\n",
    "                    _end,\n",
    "                    _length,\n",
    "                ])\n",
    "\n",
    "        _alignment_df = pd.DataFrame(alignment_list, columns=alignment_header)\n",
    "        # return _alignment_df\n",
    "\n",
    "# contig_df = _rpsblast_xml_to_alignment_df(os.path.join(GENOME_PARENT_PATH, 'rpsblast_feature_562.2283.xml'))\n",
    "# print(contig_df.head(10).to_markdown())\n"
   ],
   "metadata": {
    "collapsed": false,
    "pycharm": {
     "name": "#%% compared the conserved domain search results from contigs and features\n"
    }
   }
  }
 ],
 "metadata": {
  "kernelspec": {
   "name": "pycharm-de1f634c",
   "language": "python",
   "display_name": "PyCharm (bioseq-learning)"
  },
  "language_info": {
   "codemirror_mode": {
    "name": "ipython",
    "version": 2
   },
   "file_extension": ".py",
   "mimetype": "text/x-python",
   "name": "python",
   "nbconvert_exporter": "python",
   "pygments_lexer": "ipython2",
   "version": "2.7.6"
  }
 },
 "nbformat": 4,
 "nbformat_minor": 0
}