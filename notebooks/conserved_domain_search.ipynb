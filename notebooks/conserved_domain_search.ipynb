{
 "cells": [
  {
   "cell_type": "markdown",
   "source": [
    "This notebook demonstrates how to search for conserved domains and replicate the searching results from the [NCBI/CDD](https://www.ncbi.nlm.nih.gov/cdd/) website.\n"
   ],
   "metadata": {
    "collapsed": false,
    "pycharm": {
     "name": "#%% md\n"
    }
   }
  },
  {
   "cell_type": "code",
   "execution_count": 1,
   "outputs": [
    {
     "ename": "ModuleNotFoundError",
     "evalue": "No module named 'Bio'",
     "output_type": "error",
     "traceback": [
      "\u001B[0;31m---------------------------------------------------------------------------\u001B[0m",
      "\u001B[0;31mModuleNotFoundError\u001B[0m                       Traceback (most recent call last)",
      "\u001B[0;32m<ipython-input-1-b26338c1cb86>\u001B[0m in \u001B[0;36m<module>\u001B[0;34m\u001B[0m\n\u001B[1;32m      3\u001B[0m \u001B[0;32mimport\u001B[0m \u001B[0mpandas\u001B[0m \u001B[0;32mas\u001B[0m \u001B[0mpd\u001B[0m\u001B[0;34m\u001B[0m\u001B[0;34m\u001B[0m\u001B[0m\n\u001B[1;32m      4\u001B[0m \u001B[0;34m\u001B[0m\u001B[0m\n\u001B[0;32m----> 5\u001B[0;31m \u001B[0;32mfrom\u001B[0m \u001B[0mBio\u001B[0m\u001B[0;34m.\u001B[0m\u001B[0mBlast\u001B[0m \u001B[0;32mimport\u001B[0m \u001B[0mNCBIXML\u001B[0m\u001B[0;34m\u001B[0m\u001B[0;34m\u001B[0m\u001B[0m\n\u001B[0m\u001B[1;32m      6\u001B[0m \u001B[0;32mfrom\u001B[0m \u001B[0mBio\u001B[0m\u001B[0;34m.\u001B[0m\u001B[0mBlast\u001B[0m\u001B[0;34m.\u001B[0m\u001B[0mRecord\u001B[0m \u001B[0;32mimport\u001B[0m \u001B[0mAlignment\u001B[0m\u001B[0;34m,\u001B[0m \u001B[0mHSP\u001B[0m\u001B[0;34m\u001B[0m\u001B[0;34m\u001B[0m\u001B[0m\n\u001B[1;32m      7\u001B[0m \u001B[0;32mfrom\u001B[0m \u001B[0mBio\u001B[0m\u001B[0;34m.\u001B[0m\u001B[0mBlast\u001B[0m\u001B[0;34m.\u001B[0m\u001B[0mRecord\u001B[0m \u001B[0;32mimport\u001B[0m \u001B[0mBlast\u001B[0m \u001B[0;32mas\u001B[0m \u001B[0mBlastResult\u001B[0m\u001B[0;34m\u001B[0m\u001B[0;34m\u001B[0m\u001B[0m\n",
      "\u001B[0;31mModuleNotFoundError\u001B[0m: No module named 'Bio'"
     ]
    }
   ],
   "source": [
    "import io\n",
    "import os\n",
    "import pandas as pd\n",
    "\n",
    "from Bio.Blast import NCBIXML\n",
    "from Bio.Blast.Record import Alignment, HSP\n",
    "from Bio.Blast.Record import Blast as BlastResult\n",
    "from Bio.Blast.Applications import \\\n",
    "    NcbirpstblastnCommandline, NcbiblastformatterCommandline\n",
    "\n",
    "# print usage and version info about rpsblast (for nucleotide)\n",
    "version_info = NcbirpstblastnCommandline(version=True)()[0]\n",
    "print(version_info)\n"
   ],
   "metadata": {
    "collapsed": false,
    "pycharm": {
     "name": "#%% imports and basic info\n"
    }
   }
  },
  {
   "cell_type": "code",
   "execution_count": null,
   "metadata": {
    "collapsed": true,
    "pycharm": {
     "name": "#%% constants for paths and configurations\n"
    }
   },
   "outputs": [],
   "source": [
    "# path to CDD (conserved domain database) and related info\n",
    "CDD_DIR_PATH = os.path.abspath('../data/interim/CDD/Cdd')\n",
    "CD_TRACK_PATH = '../data/interim/CDD_metadata/cdtrack.txt'\n",
    "CD_TRACK_HEADER = [\n",
    "    'accession',\n",
    "    'name',\n",
    "    'id',\n",
    "    'parent',\n",
    "    'accession_root',\n",
    "    'version',\n",
    "    'live',\n",
    "    'release',\n",
    "    'redundant',\n",
    "    'date',\n",
    "    'time',\n",
    "]\n",
    "\n",
    "# default parameters for rpsblast (replicate the web search results)\n",
    "RPSBLAST_KWARGS = {\n",
    "    'db': CDD_DIR_PATH,\n",
    "    'seg': 'no',\n",
    "    'outfmt':11,\n",
    "    'evalue': 0.01,\n",
    "    'comp_based_stats': '1',\n",
    "}\n",
    "\n",
    "# use Myo7b gene as an example for rpsblast\n",
    "# sequence source: http://www.informatics.jax.org/sequence/marker/MGI:107709\n",
    "NUCLEOTIDE_SEQ_PATH = './examples/conserved_domain_search/AXOC01000064.fna'\n",
    "\n",
    "# paths for conserved domain results\n",
    "CD_PATH = f'./examples/conserved_domain_search/AXOC01000064'\n",
    "CD_ANS_PATH, CD_XML_PATH, CD_CSV_PATH = f'{CD_PATH}.ans', f'{CD_PATH}.xml', f'{CD_PATH}.csv'\n"
   ]
  },
  {
   "cell_type": "code",
   "execution_count": null,
   "outputs": [],
   "source": [
    "# same rpsblast config as the online conserved domain search\n",
    "# based from the README file in CDD FTP server\n",
    "# https://ftp.ncbi.nih.gov/pub/mmdb/cdd/README\n",
    "\n",
    "rpstblastn_cmd = NcbirpstblastnCommandline(\n",
    "    query=NUCLEOTIDE_SEQ_PATH,\n",
    "    **RPSBLAST_KWARGS,\n",
    ")\n",
    "cd_ans, rpstblastn_cmd_error_msg = rpstblastn_cmd()\n",
    "with open(CD_ANS_PATH, 'w+') as f:\n",
    "    f.write(cd_ans)\n",
    "\n",
    "formatter_cmd = NcbiblastformatterCommandline(\n",
    "    archive=CD_ANS_PATH,\n",
    "    outfmt=5,\n",
    "    out=CD_XML_PATH,\n",
    ")\n",
    "_, formatter_cmd_error_msg = formatter_cmd()\n"
   ],
   "metadata": {
    "collapsed": false,
    "pycharm": {
     "name": "#%% rpsblast run\n"
    }
   }
  },
  {
   "cell_type": "code",
   "execution_count": null,
   "outputs": [],
   "source": [
    "with open(CD_XML_PATH, 'r') as f:\n",
    "    rpsblast_result: BlastResult = NCBIXML.read(f)\n",
    "print(f'There are {len(rpsblast_result.alignments)} rpsblast/rpstblastn alignments ...')\n",
    "\n",
    "alignment_header = (\n",
    "    # 'title'\n",
    "    'id',\n",
    "    'name',\n",
    "    'accession',\n",
    "    'score',\n",
    "    'e-value',\n",
    "    'start',\n",
    "    'end',\n",
    "    'length',\n",
    "    'frame',\n",
    "    'description',\n",
    "    # 'gaps',\n",
    ")\n",
    "alignment_list = []\n",
    "_alignment: Alignment\n",
    "for _alignment in rpsblast_result.alignments:\n",
    "\n",
    "    # _title = (_alignment.title[:32] + '...') \\\n",
    "    #     if len(_alignment.title) > 32 else _alignment.title\n",
    "    _hit_id = _alignment.hit_id\n",
    "    _hit_def = (_alignment.hit_def[:32] + '...') \\\n",
    "        if len(_alignment.hit_def) > 32 else _alignment.hit_def\n",
    "\n",
    "    # check out the HSP documents on the returned fields\n",
    "    # https://biopython.org/DIST/docs/api/Bio.Blast.Record.HSP-class.html\n",
    "    _hsp: HSP\n",
    "    for _hsp in _alignment.hsps:\n",
    "        _accession, _name, _description = \\\n",
    "            tuple(str(_alignment.hit_def).split(',', maxsplit=2))\n",
    "        _name =(_name[:8] + '...') if len(_name) > 10 else _name\n",
    "        _description =(_description[:48] + '...') \\\n",
    "            if len(_description) > 50 else _description\n",
    "        alignment_list.append([\n",
    "            # _title,\n",
    "            int(_hit_id.replace('gnl|CDD|', '')),\n",
    "            _name,\n",
    "            _accession,\n",
    "            _hsp.score,\n",
    "            _hsp.expect,\n",
    "            _hsp.query_start,\n",
    "            _hsp.query_end,\n",
    "            _hsp.align_length,\n",
    "            _hsp.frame[0],  # reading frame of the query\n",
    "            _description,\n",
    "            # _hsp.gaps,\n",
    "        ])\n",
    "\n",
    "alignment_df = pd.DataFrame(alignment_list, columns=alignment_header)\n",
    "alignment_df.to_csv(CD_CSV_PATH)\n",
    "print(alignment_df.head(32).drop(columns=['score', 'frame', 'length'])\n",
    "      .to_markdown(index=False) + '\\n...')\n"
   ],
   "metadata": {
    "collapsed": false,
    "pycharm": {
     "name": "#%% rpsblast result parsing\n"
    }
   }
  },
  {
   "cell_type": "code",
   "execution_count": null,
   "outputs": [],
   "source": [
    "'''\n",
    "Column descriptions (for CD track info):\n",
    "\n",
    "Acc = conserved domain model accession number (e.g., pfam09006)\n",
    "\n",
    "ShortName = first 10 characters of domain model's short name,\n",
    "        in this case, Surfac_D-t, for Surfac_D-trimer.\n",
    "\n",
    "PSSMID = unique identifier for the position specific scoring matrix\n",
    "        (e.g., as the pfam09006 domain model has evolved, it has had\n",
    "        three PSSMs, with IDs 72424, 87766, and 90442, respectively).\n",
    "\n",
    "        If there are any changes in the protein sequence alignment\n",
    "        of a domain model (for example, the addition/deletion of\n",
    "        member protein sequences or changes in the span of aligned residues),\n",
    "        or if there are changes in the interpretation of the alignment,\n",
    "        a new PSSM will be calculated. In that case, it will receive\n",
    "        a new PSSM ID, although the accession number of the conserved\n",
    "        domain model will remain the same.\n",
    "\n",
    "        If only the domain model description or other annotations have\n",
    "        changed, but the PSSM did not change, the version of the model\n",
    "        will be incremented but the the PSSM ID will remain the same,\n",
    "        as it did for version 1 and 2 of pfam09006, both of which had\n",
    "        the PSSM ID 72424.\n",
    "\n",
    "Root =  if the domain model is NCBI-curated, the \"Root\" column will\n",
    "        show the accession number of the parent node of the curated\n",
    "        domain hierarchy.  If the domain hierarchy contains only a\n",
    "        single node, the value in the \"Root\" column will be the same\n",
    "        as that in the \"Acc\" column.  The values will also be the same\n",
    "        if the accession listed in the first column is the parent node\n",
    "        of a multi-level hierarchy.\n",
    "\n",
    "Version = version number of that particular domain model\n",
    "\n",
    "Lv =         indicates the current live version of the record:\n",
    "        1 = live status;\n",
    "        0 = dead, earlier version.\n",
    "\n",
    "Rl =         indicates whether the domain model version has been\n",
    "             released into the public database. This is a flag\n",
    "             NCBI uses for internal data tracking.\n",
    "             For most domain models, the value will be\n",
    "             1= released, which means at some point the model was\n",
    "             live in the database. Occasionally a value of \"0\" might\n",
    "             appear, primarily for ncbi-curated models.  This indicates\n",
    "             a newer version of a model is in preparation at NCBI and\n",
    "             will be released in the future.\n",
    "\n",
    "ER =         Expendable or redundant models; value in this column can be:\n",
    "             0 = non-expendable or not redundant\n",
    "             1 = expendable or redundant; indicates a model that has been\n",
    "             removed from the default \"cdd\" search set because the\n",
    "             information in it is represented in another domain model.\n",
    "\n",
    "Time =         date and time on which the model was last updated in the\n",
    "        internal conserved domain tracking database.\n",
    "'''\n",
    "\n",
    "cd_track_df = pd.read_csv(\n",
    "    CD_TRACK_PATH,\n",
    "    sep='\\s+',\n",
    "    header=None,\n",
    "    index_col=None,\n",
    "    skiprows=4,\n",
    "    names=CD_TRACK_HEADER,\n",
    ")\n",
    "\n",
    "_cd_track_cd_len = len(cd_track_df)\n",
    "\n",
    "# delete the \"dead\" rows and keep the useful columns only\n",
    "cd_track_df = cd_track_df.loc[cd_track_df['live'] == 1]\n",
    "print(f'There are {len(cd_track_df)}/{_cd_track_cd_len} (live/total) PSSMs in CDD ...')\n",
    "print(cd_track_df.head(32)[['accession', 'name', 'id', 'parent', 'accession_root']].\n",
    "      to_markdown())"
   ],
   "metadata": {
    "collapsed": false,
    "pycharm": {
     "name": "#%% load the CDD track info\n"
    }
   }
  },
  {
   "cell_type": "code",
   "execution_count": null,
   "outputs": [],
   "source": [
    "_unique_cd_root = cd_track_df['accession_root'].unique()\n",
    "print(f'There are {len(_unique_cd_root)} unique CD roots in CDD ...')\n",
    "\n",
    "# merge the CD track info into (rpsblast) alignment dataframe\n",
    "alignment_cd_track_df = alignment_df.merge(\n",
    "    right=cd_track_df[['id', 'accession_root']],\n",
    "    how='left',\n",
    "    on='id',\n",
    ")\n",
    "\n",
    "# fill in the short names and accession\n",
    "# _def = alignment_cd_track_df['def'].str.split(',', n=2 ,expand=True)\n",
    "# _accessions, _short_names = _def[0], _def[1]\n",
    "# alignment_cd_track_df['accession'] = _accessions\n",
    "# alignment_cd_track_df['short_name'] = _short_names\n",
    "\n",
    "# fill in the root if it does not exist\n",
    "# for non-NCBI-curated conserved domains, there is no root in CD track\n",
    "# alignment_cd_track_df['root'].fillna(\n",
    "#     alignment_cd_track_df['accession'],\n",
    "#     inplace=True,\n",
    "# )\n",
    "\n",
    "print(alignment_cd_track_df.head(32)[\n",
    "          ['id', 'name', 'accession', 'accession_root', 'e-value', 'start', 'end', 'description']].to_markdown())\n"
   ],
   "metadata": {
    "collapsed": false,
    "pycharm": {
     "name": "#%% track down the CD root information for the sequence\n"
    }
   }
  },
  {
   "cell_type": "code",
   "execution_count": null,
   "outputs": [],
   "source": [
    "# TODO: The binding sites and other annotated information is in cddannot.dat from the CDD FTP server\n",
    "# Note that the info is only available for NCBI-curated domains\n"
   ],
   "metadata": {
    "collapsed": false,
    "pycharm": {
     "name": "#%% extract binding sites and other information using rpsbproc\n"
    }
   }
  }
 ],
 "metadata": {
  "kernelspec": {
   "name": "pycharm-de1f634c",
   "language": "python",
   "display_name": "PyCharm (bioseq-learning)"
  },
  "language_info": {
   "codemirror_mode": {
    "name": "ipython",
    "version": 2
   },
   "file_extension": ".py",
   "mimetype": "text/x-python",
   "name": "python",
   "nbconvert_exporter": "python",
   "pygments_lexer": "ipython2",
   "version": "2.7.6"
  }
 },
 "nbformat": 4,
 "nbformat_minor": 0
}