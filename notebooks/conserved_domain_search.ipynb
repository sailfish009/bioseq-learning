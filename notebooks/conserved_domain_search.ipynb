{
 "cells": [
  {
   "cell_type": "markdown",
   "source": [
    "This notebook demonstrates how to search for conserved domains and replicate the searching results from the [NCBI/CDD](https://www.ncbi.nlm.nih.gov/cdd/) website.\n"
   ],
   "metadata": {
    "collapsed": false,
    "pycharm": {
     "name": "#%% md\n"
    }
   }
  },
  {
   "cell_type": "code",
   "execution_count": 1,
   "outputs": [
    {
     "name": "stdout",
     "output_type": "stream",
     "text": [
      "rpstblastn: 2.10.1+\n",
      " Package: blast 2.10.1, build May 12 2020 13:06:02\n",
      "\n"
     ]
    }
   ],
   "source": [
    "import io\n",
    "import os\n",
    "import pandas as pd\n",
    "\n",
    "from Bio.Blast import NCBIXML\n",
    "from Bio.Blast.Record import Alignment, HSP\n",
    "from Bio.Blast.Record import Blast as BlastResult\n",
    "from Bio.Blast.Applications import NcbirpstblastnCommandline\n",
    "\n",
    "# print usage and version info about rpsblast (for nucleotide)\n",
    "version_info = NcbirpstblastnCommandline(version=True)()[0]\n",
    "print(version_info)\n"
   ],
   "metadata": {
    "collapsed": false,
    "pycharm": {
     "name": "#%% imports and basic info\n"
    }
   }
  },
  {
   "cell_type": "code",
   "execution_count": 2,
   "metadata": {
    "collapsed": true,
    "pycharm": {
     "name": "#%% constants for paths and configurations\n"
    }
   },
   "outputs": [],
   "source": [
    "# path to CDD (conserved domain database) and related info\n",
    "CDD_DIR_PATH = os.path.abspath('../data/interim/CDD/Cdd')\n",
    "CD_TRACK_PATH = '../data/interim/CDD/cd_track.txt'\n",
    "CD_TRACK_HEADER = [\n",
    "    'accession',\n",
    "    'name',\n",
    "    'id',\n",
    "    'parent',\n",
    "    'accession_root',\n",
    "    'version',\n",
    "    'live',\n",
    "    'release',\n",
    "    'redundant',\n",
    "    'date',\n",
    "    'time',\n",
    "]\n",
    "\n",
    "# default parameters for rpsblast (replicate the web search results)\n",
    "RPSBLAST_KWARGS = {\n",
    "    'db': CDD_DIR_PATH,\n",
    "    'seg': 'no',\n",
    "    'outfmt': 5,\n",
    "    'evalue': 0.01,\n",
    "    'comp_based_stats': '1',\n",
    "}\n",
    "\n",
    "# use Myo7b gene as an example for rpsblast\n",
    "# sequence source: http://www.informatics.jax.org/sequence/marker/MGI:107709\n",
    "NUCLEOTIDE_SEQ_PATH = './examples/conserved_domain_search/AXOC01000064.fna'\n",
    "\n",
    "# paths for conserved domain results\n",
    "CD_PATH = f'./examples/conserved_domain_search/conserved_domains'\n",
    "CD_XML_PATH, CD_CSV_PATH = f'{CD_PATH}.xml', f'{CD_PATH}.csv'\n"
   ]
  },
  {
   "cell_type": "code",
   "execution_count": 3,
   "outputs": [],
   "source": [
    "# same rpsblast config as the online conserved domain search\n",
    "# based from the README file in CDD FTP server\n",
    "# https://ftp.ncbi.nih.gov/pub/mmdb/cdd/README\n",
    "\n",
    "rpsblast_cmd = NcbirpstblastnCommandline(\n",
    "    query=NUCLEOTIDE_SEQ_PATH,\n",
    "    **RPSBLAST_KWARGS,\n",
    ")\n",
    "cd_xml, rpsblast_cmd_error_msg = rpsblast_cmd()\n",
    "with open(CD_XML_PATH, 'w+') as f:\n",
    "    f.write(cd_xml)\n"
   ],
   "metadata": {
    "collapsed": false,
    "pycharm": {
     "name": "#%% rpsblast run\n"
    }
   }
  },
  {
   "cell_type": "code",
   "execution_count": 4,
   "outputs": [
    {
     "name": "stdout",
     "output_type": "stream",
     "text": [
      "There are 218 rpsblast/rpstblastn alignments ...\n",
      "|     id | name       | accession   |      e-value |   start |   end | description                                        |\n",
      "|-------:|:-----------|:------------|-------------:|--------:|------:|:---------------------------------------------------|\n",
      "| 181942 | nhaB       | PRK09547    | 0            |   18715 | 20244 | sodium/proton antiporter NhaB.                     |\n",
      "| 179607 | umuC       | PRK03609    | 0            |   16714 | 17979 | translesion error-prone DNA polymerase V subuni... |\n",
      "| 225609 | NhaB       | COG3067     | 0            |   18706 | 20244 | Na+/H+ antiporter [Inorganic ion transport and ... |\n",
      "| 129856 | Na+/H+_... | TIGR00774   | 0            |   18706 | 20244 | Na+/H+ antiporter NhaB.  These proteins are mem... |\n",
      "| 283984 | NhaB       | pfam06450   | 0            |   18709 | 20244 | Bacterial Na+/H+ antiporter B (NhaB).  This fam... |\n",
      "| 182756 | PRK10818   | PRK10818    | 7.85428e-178 |   10761 | 11570 | septum site-determining protein MinD.              |\n",
      "| 176454 | PolY_Po... | cd01700     | 5.71551e-177 |   16720 | 17760 | umuC subunit of DNA Polymerase V.  umuC subunit... |\n",
      "| 179909 | PRK04984   | PRK04984    | 6.15414e-171 |   20466 | 21182 | fatty acid metabolism transcriptional regulator... |\n",
      "| 182650 | PRK10691   | PRK10691    | 2.7336e-161  |   14305 | 14961 | fumarylacetoacetate hydrolase family protein.      |\n",
      "| 225447 | MinD       | COG2894     | 2.45833e-160 |   10761 | 11570 | Septum formation inhibitor-activating ATPase [C... |\n",
      "| 179585 | minC       | PRK03511    | 3.31329e-152 |   11597 | 12289 | septum site-determining protein MinC.              |\n",
      "| 163028 | Fatty_a... | TIGR02812   | 7.66409e-152 |   20469 | 21173 | fatty acid metabolism transcriptional regulator... |\n",
      "| 131023 | Septum_... | TIGR01968   | 2.662e-118   |   10764 | 11567 | septum site-determining protein MinD.  This mod... |\n",
      "| 349756 | MinD       | cd02036     | 6.33315e-112 |   10833 | 11564 | septum site-determining protein MinD.  Septum s... |\n",
      "| 223466 | DinP       | COG0389     | 7.01591e-97  |   16714 | 17793 | Nucleotidyltransferase/DNA polymerase involved ... |\n",
      "| 234979 | PRK01749   | PRK01749    | 3.84334e-96  |   18033 | 18557 | disulfide bond formation protein DsbB.             |\n",
      "| 369550 | FadR_C     | pfam07840   | 1.10008e-90  |   20679 | 21167 | FadR C-terminal domain.  This family contains s... |\n",
      "| 214491 | EAL        | smart00052  | 1.61459e-90  |    5412 |  6137 | Putative diguanylate phosphodiesterase.  Putati... |\n",
      "| 214491 | EAL        | smart00052  | 2.07696e-58  |    2310 |  3029 | Putative diguanylate phosphodiesterase.  Putati... |\n",
      "| 235356 | PRK05170   | PRK05170    | 2.17226e-89  |   15056 | 15496 | YcgN family cysteine cluster protein.              |\n",
      "| 225530 | COG2983    | COG2983     | 2.78519e-86  |   15041 | 15499 | Uncharacterized conserved protein [Function unk... |\n",
      "| 223257 | MhpD       | COG0179     | 3.09206e-86  |   14305 | 14961 | 2-keto-4-pentenoate hydratase/2-oxohepta-3-ene-... |\n",
      "| 182350 | PRK10276   | PRK10276    | 7.34463e-85  |   16295 | 16711 | translesion error-prone DNA polymerase V autopr... |\n",
      "| 185003 | PRK15043   | PRK15043    | 4.96592e-81  |    1343 |  2059 | HTH-type transcriptional regulator MlrA.           |\n",
      "| 223919 | MinC       | COG0850     | 2.09468e-80  |   11597 | 12274 | Septum formation inhibitor [Cell division and c... |\n",
      "| 238923 | EAL        | cd01948     | 5.38815e-80  |    5421 |  6125 | EAL domain. This domain is found in diverse bac... |\n",
      "| 238923 | EAL        | cd01948     | 1.20049e-45  |    2310 |  2960 | EAL domain. This domain is found in diverse bac... |\n",
      "| 225110 | Rtn        | COG2200     | 1.88948e-79  |    5412 |  6167 | c-di-GMP phosphodiesterase class I (EAL domain)... |\n",
      "| 225110 | Rtn        | COG2200     | 7.6092e-46   |    2310 |  2960 | c-di-GMP phosphodiesterase class I (EAL domain)... |\n",
      "| 214385 | minD       | CHL00175    | 8.47023e-76  |   10767 | 11570 | septum-site determining protein; Validated.        |\n",
      "| 179880 | minC       | PRK04804    | 6.36923e-73  |   11600 | 12289 | septum site-determining protein MinC.              |\n",
      "| 273511 | Probabl... | TIGR01222   | 3.1585e-65   |   11600 | 12274 | septum site-determining protein MinC.  The minC... |\n",
      "...\n"
     ]
    }
   ],
   "source": [
    "rpsblast_result: BlastResult = NCBIXML.read(io.StringIO(cd_xml))\n",
    "print(f'There are {len(rpsblast_result.alignments)} rpsblast/rpstblastn alignments ...')\n",
    "\n",
    "alignment_header = (\n",
    "    # 'title'\n",
    "    'id',\n",
    "    'name',\n",
    "    'accession',\n",
    "    'score',\n",
    "    'e-value',\n",
    "    'start',\n",
    "    'end',\n",
    "    'length',\n",
    "    'frame',\n",
    "    'description',\n",
    "    # 'gaps',\n",
    ")\n",
    "alignment_list = []\n",
    "_alignment: Alignment\n",
    "for _alignment in rpsblast_result.alignments:\n",
    "\n",
    "    # _title = (_alignment.title[:32] + '...') \\\n",
    "    #     if len(_alignment.title) > 32 else _alignment.title\n",
    "    _hit_id = _alignment.hit_id\n",
    "    _hit_def = (_alignment.hit_def[:32] + '...') \\\n",
    "        if len(_alignment.hit_def) > 32 else _alignment.hit_def\n",
    "\n",
    "    # check out the HSP documents on the returned fields\n",
    "    # https://biopython.org/DIST/docs/api/Bio.Blast.Record.HSP-class.html\n",
    "    _hsp: HSP\n",
    "    for _hsp in _alignment.hsps:\n",
    "        _accession, _name, _description = \\\n",
    "            tuple(str(_alignment.hit_def).split(',', maxsplit=2))\n",
    "        _name =(_name[:8] + '...') if len(_name) > 10 else _name\n",
    "        _description =(_description[:48] + '...') \\\n",
    "            if len(_description) > 50 else _description\n",
    "        alignment_list.append([\n",
    "            # _title,\n",
    "            int(_hit_id.replace('gnl|CDD|', '')),\n",
    "            _name,\n",
    "            _accession,\n",
    "            _hsp.score,\n",
    "            _hsp.expect,\n",
    "            _hsp.query_start,\n",
    "            _hsp.query_end,\n",
    "            _hsp.align_length,\n",
    "            _hsp.frame[0],  # reading frame of the query\n",
    "            _description,\n",
    "            # _hsp.gaps,\n",
    "        ])\n",
    "\n",
    "alignment_df = pd.DataFrame(alignment_list, columns=alignment_header)\n",
    "alignment_df.to_csv(CD_CSV_PATH)\n",
    "print(alignment_df.head(32).drop(columns=['score', 'frame', 'length'])\n",
    "      .to_markdown(index=False) + '\\n...')\n"
   ],
   "metadata": {
    "collapsed": false,
    "pycharm": {
     "name": "#%% rpsblast result parsing\n"
    }
   }
  },
  {
   "cell_type": "code",
   "execution_count": 5,
   "outputs": [
    {
     "name": "stdout",
     "output_type": "stream",
     "text": [
      "There are 16181/16181 (live/total) PSSMs in CDD ...\n",
      "|    | accession   | name           |     id | parent   | accession_root   |\n",
      "|---:|:------------|:---------------|-------:|:---------|:-----------------|\n",
      "|  0 | cd00001     | PTS_IIB_man    | 237975 | nan      | cd00001          |\n",
      "|  1 | cd00002     | YbaK_deacylase | 237976 | cd04332  | cd04332          |\n",
      "|  2 | cd00003     | PNPsynthase    | 237977 | nan      | cd00003          |\n",
      "|  3 | cd00004     | Sortase        | 320674 | nan      | cd00004          |\n",
      "|  4 | cd00005     | CBM9_like_1    | 187674 | cd00241  | cd00241          |\n",
      "|  5 | cd00006     | PTS_IIA_man    | 237978 | nan      | cd00006          |\n",
      "|  6 | cd00008     | PIN_53EXO-like | 350199 | cd09853  | cd09852          |\n",
      "|  7 | cd00009     | AAA            |  99707 | nan      | cd00009          |\n",
      "|  8 | cd00010     | AAI_LTSS       | 237980 | nan      | cd00010          |\n",
      "|  9 | cd00011     | BAR_Arfapti... | 153270 | cd07307  | cd07307          |\n",
      "| 10 | cd00012     | NBD_sugar-k... | 212657 | nan      | cd00012          |\n",
      "| 11 | cd00013     | ADF_gelsolin   | 200435 | nan      | cd00013          |\n",
      "| 12 | cd00014     | CH             | 237981 | nan      | cd00014          |\n",
      "| 13 | cd00015     | ALBUMIN        | 237982 | nan      | cd00015          |\n",
      "| 14 | cd00016     | ALP_like       | 293732 | nan      | cd00016          |\n",
      "| 15 | cd00017     | ANATO          | 237984 | nan      | cd00017          |\n",
      "| 16 | cd00018     | AP2            | 237985 | nan      | cd00018          |\n",
      "| 17 | cd00019     | AP2Ec          | 237986 | nan      | cd00019          |\n",
      "| 18 | cd00021     | Bbox_SF        | 380813 | nan      | cd00021          |\n",
      "| 19 | cd00022     | BIR            | 237989 | nan      | cd00022          |\n",
      "| 20 | cd00023     | BBI            | 237990 | nan      | cd00023          |\n",
      "| 21 | cd00024     | CD_CSD         | 349274 | nan      | cd00024          |\n",
      "| 22 | cd00025     | BPI1           | 237992 | cd00264  | cd00264          |\n",
      "| 23 | cd00026     | BPI2           | 237993 | cd00264  | cd00264          |\n",
      "| 24 | cd00027     | BRCT           | 349339 | nan      | cd00027          |\n",
      "| 25 | cd00028     | B_lectin       | 237995 | nan      | cd00028          |\n",
      "| 26 | cd00029     | C1             | 237996 | nan      | cd00029          |\n",
      "| 27 | cd00030     | C2             | 175973 | nan      | cd00030          |\n",
      "| 28 | cd00031     | CA_like        | 206635 | nan      | cd00031          |\n",
      "| 29 | cd00032     | CASc           | 237997 | nan      | cd00032          |\n",
      "| 30 | cd00033     | CCP            | 153056 | nan      | cd00033          |\n",
      "| 31 | cd00034     | CSD            | 349275 | cd00024  | cd00024          |\n"
     ]
    }
   ],
   "source": [
    "'''\n",
    "Column descriptions (for CD track info):\n",
    "\n",
    "Acc = conserved domain model accession number (e.g., pfam09006)\n",
    "\n",
    "ShortName = first 10 characters of domain model's short name,\n",
    "        in this case, Surfac_D-t, for Surfac_D-trimer.\n",
    "\n",
    "PSSMID = unique identifier for the position specific scoring matrix\n",
    "        (e.g., as the pfam09006 domain model has evolved, it has had\n",
    "        three PSSMs, with IDs 72424, 87766, and 90442, respectively).\n",
    "\n",
    "        If there are any changes in the protein sequence alignment\n",
    "        of a domain model (for example, the addition/deletion of\n",
    "        member protein sequences or changes in the span of aligned residues),\n",
    "        or if there are changes in the interpretation of the alignment,\n",
    "        a new PSSM will be calculated. In that case, it will receive\n",
    "        a new PSSM ID, although the accession number of the conserved\n",
    "        domain model will remain the same.\n",
    "\n",
    "        If only the domain model description or other annotations have\n",
    "        changed, but the PSSM did not change, the version of the model\n",
    "        will be incremented but the the PSSM ID will remain the same,\n",
    "        as it did for version 1 and 2 of pfam09006, both of which had\n",
    "        the PSSM ID 72424.\n",
    "\n",
    "Root =  if the domain model is NCBI-curated, the \"Root\" column will\n",
    "        show the accession number of the parent node of the curated\n",
    "        domain hierarchy.  If the domain hierarchy contains only a\n",
    "        single node, the value in the \"Root\" column will be the same\n",
    "        as that in the \"Acc\" column.  The values will also be the same\n",
    "        if the accession listed in the first column is the parent node\n",
    "        of a multi-level hierarchy.\n",
    "\n",
    "Version = version number of that particular domain model\n",
    "\n",
    "Lv =         indicates the current live version of the record:\n",
    "        1 = live status;\n",
    "        0 = dead, earlier version.\n",
    "\n",
    "Rl =         indicates whether the domain model version has been\n",
    "             released into the public database. This is a flag\n",
    "             NCBI uses for internal data tracking.\n",
    "             For most domain models, the value will be\n",
    "             1= released, which means at some point the model was\n",
    "             live in the database. Occasionally a value of \"0\" might\n",
    "             appear, primarily for ncbi-curated models.  This indicates\n",
    "             a newer version of a model is in preparation at NCBI and\n",
    "             will be released in the future.\n",
    "\n",
    "ER =         Expendable or redundant models; value in this column can be:\n",
    "             0 = non-expendable or not redundant\n",
    "             1 = expendable or redundant; indicates a model that has been\n",
    "             removed from the default \"cdd\" search set because the\n",
    "             information in it is represented in another domain model.\n",
    "\n",
    "Time =         date and time on which the model was last updated in the\n",
    "        internal conserved domain tracking database.\n",
    "'''\n",
    "\n",
    "cd_track_df = pd.read_csv(\n",
    "    CD_TRACK_PATH,\n",
    "    sep='\\s+',\n",
    "    header=None,\n",
    "    index_col=None,\n",
    "    skiprows=4,\n",
    "    names=CD_TRACK_HEADER,\n",
    ")\n",
    "\n",
    "_cd_track_cd_len = len(cd_track_df)\n",
    "\n",
    "# delete the \"dead\" rows and keep the useful columns only\n",
    "cd_track_df = cd_track_df.loc[cd_track_df['live'] == 1]\n",
    "print(f'There are {len(cd_track_df)}/{_cd_track_cd_len} (live/total) PSSMs in CDD ...')\n",
    "print(cd_track_df.head(32)[['accession', 'name', 'id', 'parent', 'accession_root']].\n",
    "      to_markdown())"
   ],
   "metadata": {
    "collapsed": false,
    "pycharm": {
     "name": "#%% load the CDD track info\n"
    }
   }
  },
  {
   "cell_type": "code",
   "execution_count": 6,
   "outputs": [
    {
     "name": "stdout",
     "output_type": "stream",
     "text": [
      "There are 1270 unique CD roots in CDD ...\n",
      "|    |     id | name       | accession   | accession_root   |      e-value |   start |   end | description                                        |\n",
      "|---:|-------:|:-----------|:------------|:-----------------|-------------:|--------:|------:|:---------------------------------------------------|\n",
      "|  0 | 181942 | nhaB       | PRK09547    | nan              | 0            |   18715 | 20244 | sodium/proton antiporter NhaB.                     |\n",
      "|  1 | 179607 | umuC       | PRK03609    | nan              | 0            |   16714 | 17979 | translesion error-prone DNA polymerase V subuni... |\n",
      "|  2 | 225609 | NhaB       | COG3067     | nan              | 0            |   18706 | 20244 | Na+/H+ antiporter [Inorganic ion transport and ... |\n",
      "|  3 | 129856 | Na+/H+_... | TIGR00774   | nan              | 0            |   18706 | 20244 | Na+/H+ antiporter NhaB.  These proteins are mem... |\n",
      "|  4 | 283984 | NhaB       | pfam06450   | nan              | 0            |   18709 | 20244 | Bacterial Na+/H+ antiporter B (NhaB).  This fam... |\n",
      "|  5 | 182756 | PRK10818   | PRK10818    | nan              | 7.85428e-178 |   10761 | 11570 | septum site-determining protein MinD.              |\n",
      "|  6 | 176454 | PolY_Po... | cd01700     | cd00424          | 5.71551e-177 |   16720 | 17760 | umuC subunit of DNA Polymerase V.  umuC subunit... |\n",
      "|  7 | 179909 | PRK04984   | PRK04984    | nan              | 6.15414e-171 |   20466 | 21182 | fatty acid metabolism transcriptional regulator... |\n",
      "|  8 | 182650 | PRK10691   | PRK10691    | nan              | 2.7336e-161  |   14305 | 14961 | fumarylacetoacetate hydrolase family protein.      |\n",
      "|  9 | 225447 | MinD       | COG2894     | nan              | 2.45833e-160 |   10761 | 11570 | Septum formation inhibitor-activating ATPase [C... |\n",
      "| 10 | 179585 | minC       | PRK03511    | nan              | 3.31329e-152 |   11597 | 12289 | septum site-determining protein MinC.              |\n",
      "| 11 | 163028 | Fatty_a... | TIGR02812   | nan              | 7.66409e-152 |   20469 | 21173 | fatty acid metabolism transcriptional regulator... |\n",
      "| 12 | 131023 | Septum_... | TIGR01968   | nan              | 2.662e-118   |   10764 | 11567 | septum site-determining protein MinD.  This mod... |\n",
      "| 13 | 349756 | MinD       | cd02036     | cd01983          | 6.33315e-112 |   10833 | 11564 | septum site-determining protein MinD.  Septum s... |\n",
      "| 14 | 223466 | DinP       | COG0389     | nan              | 7.01591e-97  |   16714 | 17793 | Nucleotidyltransferase/DNA polymerase involved ... |\n",
      "| 15 | 234979 | PRK01749   | PRK01749    | nan              | 3.84334e-96  |   18033 | 18557 | disulfide bond formation protein DsbB.             |\n",
      "| 16 | 369550 | FadR_C     | pfam07840   | nan              | 1.10008e-90  |   20679 | 21167 | FadR C-terminal domain.  This family contains s... |\n",
      "| 17 | 214491 | EAL        | smart00052  | nan              | 1.61459e-90  |    5412 |  6137 | Putative diguanylate phosphodiesterase.  Putati... |\n",
      "| 18 | 214491 | EAL        | smart00052  | nan              | 2.07696e-58  |    2310 |  3029 | Putative diguanylate phosphodiesterase.  Putati... |\n",
      "| 19 | 235356 | PRK05170   | PRK05170    | nan              | 2.17226e-89  |   15056 | 15496 | YcgN family cysteine cluster protein.              |\n",
      "| 20 | 225530 | COG2983    | COG2983     | nan              | 2.78519e-86  |   15041 | 15499 | Uncharacterized conserved protein [Function unk... |\n",
      "| 21 | 223257 | MhpD       | COG0179     | nan              | 3.09206e-86  |   14305 | 14961 | 2-keto-4-pentenoate hydratase/2-oxohepta-3-ene-... |\n",
      "| 22 | 182350 | PRK10276   | PRK10276    | nan              | 7.34463e-85  |   16295 | 16711 | translesion error-prone DNA polymerase V autopr... |\n",
      "| 23 | 185003 | PRK15043   | PRK15043    | nan              | 4.96592e-81  |    1343 |  2059 | HTH-type transcriptional regulator MlrA.           |\n",
      "| 24 | 223919 | MinC       | COG0850     | nan              | 2.09468e-80  |   11597 | 12274 | Septum formation inhibitor [Cell division and c... |\n",
      "| 25 | 238923 | EAL        | cd01948     | cd01948          | 5.38815e-80  |    5421 |  6125 | EAL domain. This domain is found in diverse bac... |\n",
      "| 26 | 238923 | EAL        | cd01948     | cd01948          | 1.20049e-45  |    2310 |  2960 | EAL domain. This domain is found in diverse bac... |\n",
      "| 27 | 225110 | Rtn        | COG2200     | nan              | 1.88948e-79  |    5412 |  6167 | c-di-GMP phosphodiesterase class I (EAL domain)... |\n",
      "| 28 | 225110 | Rtn        | COG2200     | nan              | 7.6092e-46   |    2310 |  2960 | c-di-GMP phosphodiesterase class I (EAL domain)... |\n",
      "| 29 | 214385 | minD       | CHL00175    | nan              | 8.47023e-76  |   10767 | 11570 | septum-site determining protein; Validated.        |\n",
      "| 30 | 179880 | minC       | PRK04804    | nan              | 6.36923e-73  |   11600 | 12289 | septum site-determining protein MinC.              |\n",
      "| 31 | 273511 | Probabl... | TIGR01222   | nan              | 3.1585e-65   |   11600 | 12274 | septum site-determining protein MinC.  The minC... |\n"
     ]
    }
   ],
   "source": [
    "_unique_cd_root = cd_track_df['accession_root'].unique()\n",
    "print(f'There are {len(_unique_cd_root)} unique CD roots in CDD ...')\n",
    "\n",
    "# merge the CD track info into (rpsblast) alignment dataframe\n",
    "alignment_cd_track_df = alignment_df.merge(\n",
    "    right=cd_track_df[['id', 'accession_root']],\n",
    "    how='left',\n",
    "    on='id',\n",
    ")\n",
    "\n",
    "# fill in the short names and accession\n",
    "# _def = alignment_cd_track_df['def'].str.split(',', n=2 ,expand=True)\n",
    "# _accessions, _short_names = _def[0], _def[1]\n",
    "# alignment_cd_track_df['accession'] = _accessions\n",
    "# alignment_cd_track_df['short_name'] = _short_names\n",
    "\n",
    "# fill in the root if it does not exist\n",
    "# for non-NCBI-curated conserved domains, there is no root in CD track\n",
    "# alignment_cd_track_df['root'].fillna(\n",
    "#     alignment_cd_track_df['accession'],\n",
    "#     inplace=True,\n",
    "# )\n",
    "\n",
    "print(alignment_cd_track_df.head(32)[\n",
    "          ['id', 'name', 'accession', 'accession_root', 'e-value', 'start', 'end', 'description']].to_markdown())\n"
   ],
   "metadata": {
    "collapsed": false,
    "pycharm": {
     "name": "#%% track down the CD root information for the sequence\n"
    }
   }
  },
  {
   "cell_type": "code",
   "execution_count": null,
   "outputs": [],
   "source": [
    "# TODO: The binding sites and other annotated information is in cddannot.dat from the CDD FTP server\n",
    "# Note that the info is only available for NCBI-curated domains\n"
   ],
   "metadata": {
    "collapsed": false,
    "pycharm": {
     "name": "#%% binding sites and other information\n"
    }
   }
  }
 ],
 "metadata": {
  "kernelspec": {
   "display_name": "Python 3",
   "language": "python",
   "name": "python3"
  },
  "language_info": {
   "codemirror_mode": {
    "name": "ipython",
    "version": 2
   },
   "file_extension": ".py",
   "mimetype": "text/x-python",
   "name": "python",
   "nbconvert_exporter": "python",
   "pygments_lexer": "ipython2",
   "version": "2.7.6"
  }
 },
 "nbformat": 4,
 "nbformat_minor": 0
}