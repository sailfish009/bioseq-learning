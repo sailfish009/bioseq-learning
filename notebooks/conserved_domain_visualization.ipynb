{
 "cells": [
  {
   "cell_type": "code",
   "execution_count": 1,
   "metadata": {
    "collapsed": true
   },
   "outputs": [],
   "source": [
    "import os\n",
    "import matplotlib\n",
    "\n",
    "import umap\n",
    "import numpy as np\n",
    "import pandas as pd\n",
    "import seaborn as sns\n",
    "import matplotlib.pyplot as plt\n",
    "from sklearn.manifold import TSNE\n",
    "from sklearn.decomposition import PCA\n",
    "\n",
    "\n",
    "MIN_SUPERFAMILY_SIZE = 128\n",
    "\n",
    "CDD_SUPERFAMILY_PATH = os.path.abspath(\n",
    "        '../data/interim/CDD_metadata/family_superfamily_links')\n",
    "CDD_MASTER_PROCESSED_ALGN_FEAT_PATH = os.path.abspath(\n",
    "        '../data/processed/CDD_alignment/cdd_master_alignment_feature.csv')\n",
    "\n",
    "CDD_TSNE_IMAGE_DIR_PATH = os.path.abspath('../docs/images/cdd_tsne')\n",
    "CDD_UMAP_IMAGE_DIR_PATH = os.path.abspath('../docs/images/cdd_umap')\n"
   ]
  },
  {
   "cell_type": "code",
   "execution_count": 2,
   "outputs": [],
   "source": [
    "cdd_superfamily_df = pd.read_table(\n",
    "    CDD_SUPERFAMILY_PATH,\n",
    "    header=None,\n",
    "    index_col=0,\n",
    "    names=[\n",
    "        'accession',\n",
    "        'pssm_id',\n",
    "        'superfamily_accession',\n",
    "        'superfamily_pssm_id'\n",
    "    ],\n",
    ")\n",
    "\n",
    "cdd_master_seq_algn_feat_df = pd.read_csv(\n",
    "    CDD_MASTER_PROCESSED_ALGN_FEAT_PATH,\n",
    "    index_col=0,\n",
    ")\n"
   ],
   "metadata": {
    "collapsed": false,
    "pycharm": {
     "name": "#%%\n"
    }
   }
  },
  {
   "cell_type": "code",
   "execution_count": 3,
   "outputs": [
    {
     "name": "stdout",
     "output_type": "stream",
     "text": [
      "| accession   |   pssm_id | superfamily_accession   |   superfamily_pssm_id |\n",
      "|:------------|----------:|:------------------------|----------------------:|\n",
      "| PRK12559    |     79035 | cl00388                 |                381987 |\n",
      "| cd00009     |     99707 | cl38936                 |                393306 |\n",
      "| cd00378     |     99733 | cl18945                 |                388495 |\n",
      "| cd00609     |     99734 | cl18945                 |                388495 |\n",
      "| cd00610     |     99735 | cl18945                 |                388495 |\n",
      "| cd00611     |     99736 | cl18945                 |                388495 |\n",
      "| cd00613     |     99737 | cl18945                 |                388495 |\n",
      "| cd00614     |     99738 | cl18945                 |                388495 |\n",
      "| cd00615     |     99739 | cl18945                 |                388495 |\n",
      "| cd00616     |     99740 | cl18945                 |                388495 |\n"
     ]
    }
   ],
   "source": [
    "cdd_superfamily_value_counts = \\\n",
    "    cdd_superfamily_df['superfamily_accession'].value_counts()\n",
    "selected_cdd_superfamilies = \\\n",
    "    list(cdd_superfamily_value_counts[cdd_superfamily_value_counts > MIN_SUPERFAMILY_SIZE].index)\n",
    "selected_cdd_superfamily_df = \\\n",
    "    cdd_superfamily_df[cdd_superfamily_df['superfamily_accession'].isin(selected_cdd_superfamilies)]\n",
    "\n",
    "print(selected_cdd_superfamily_df.head(10).to_markdown())\n"
   ],
   "metadata": {
    "collapsed": false,
    "pycharm": {
     "name": "#%%\n"
    }
   }
  },
  {
   "cell_type": "code",
   "execution_count": 4,
   "outputs": [],
   "source": [
    "def visualize_cdd_with_tsne(pca_n_components):\n",
    "\n",
    "    plt.figure(figsize=(24, 16))\n",
    "\n",
    "    pca = PCA(n_components=pca_n_components)\n",
    "    cdd_master_seq_algn_feat_arr = pca.fit_transform(cdd_master_seq_algn_feat_df)\n",
    "\n",
    "    tsne = TSNE(n_components=2)\n",
    "    cdd_master_seq_algn_coord_df = pd.DataFrame(\n",
    "        tsne.fit_transform(cdd_master_seq_algn_feat_arr),\n",
    "        index=cdd_master_seq_algn_feat_df.index,\n",
    "        columns=['x', 'y'],\n",
    "    )\n",
    "\n",
    "    cdd_master_seq_algn_coord_df.index.name = 'accession'\n",
    "    cdd_coord_superfamily_df = pd.merge(\n",
    "        cdd_master_seq_algn_coord_df,\n",
    "        selected_cdd_superfamily_df[['superfamily_accession']],\n",
    "        how='outer',\n",
    "        on=['accession'],\n",
    "    )\n",
    "    cdd_coord_superfamily_df = cdd_coord_superfamily_df.fillna('others')\n",
    "\n",
    "\n",
    "    num_superfamilies = len(cdd_coord_superfamily_df['superfamily_accession'].unique())\n",
    "    palette = ['#DDDDDD', ] + sns.color_palette('hls', num_superfamilies - 1)\n",
    "\n",
    "    _ax = sns.scatterplot(\n",
    "        data=cdd_coord_superfamily_df,\n",
    "        x='x', y='y',\n",
    "        hue='superfamily_accession',\n",
    "        palette=palette,\n",
    "        legend='brief',\n",
    "    )\n",
    "    plt.legend(loc='upper right', ncol=3)\n",
    "    plt.title(f't-SNE visualization of conserved domains with PCA (n_component={pca_n_components})')\n",
    "    plt.tight_layout()\n",
    "    plt.savefig(os.path.join(\n",
    "        CDD_TSNE_IMAGE_DIR_PATH,\n",
    "        f'pca_{pca_n_components}_tsne_cdd.png',\n",
    "    ))\n",
    "\n"
   ],
   "metadata": {
    "collapsed": false,
    "pycharm": {
     "name": "#%%\n"
    }
   }
  },
  {
   "cell_type": "code",
   "execution_count": 5,
   "outputs": [],
   "source": [
    "def visualize_cdd_with_umap(umap_n_neighbors, umap_min_dist):\n",
    "\n",
    "    plt.figure(figsize=(24, 16))\n",
    "\n",
    "    umap = umap.UMAP(n_neighbors=umap_n_neighbors, min_dist=umap_min_dist)\n",
    "    cdd_master_seq_algn_coord_df = pd.DataFrame(\n",
    "        umap.fit_transform(cdd_master_seq_algn_feat_df),\n",
    "        index=cdd_master_seq_algn_feat_df.index,\n",
    "        columns=['x', 'y'],\n",
    "    )\n",
    "\n",
    "    cdd_master_seq_algn_coord_df.index.name = 'accession'\n",
    "    cdd_coord_superfamily_df = pd.merge(\n",
    "        cdd_master_seq_algn_coord_df,\n",
    "        selected_cdd_superfamily_df[['superfamily_accession']],\n",
    "        how='outer',\n",
    "        on=['accession'],\n",
    "    )\n",
    "    cdd_coord_superfamily_df = cdd_coord_superfamily_df.fillna('others')\n",
    "\n",
    "\n",
    "    num_superfamilies = len(cdd_coord_superfamily_df['superfamily_accession'].unique())\n",
    "    palette = ['#DDDDDD', ] + sns.color_palette('hls', num_superfamilies - 1)\n",
    "\n",
    "    _ax = sns.scatterplot(\n",
    "        data=cdd_coord_superfamily_df,\n",
    "        x='x', y='y',\n",
    "        hue='superfamily_accession',\n",
    "        palette=palette,\n",
    "        legend='brief',\n",
    "    )\n",
    "    plt.legend(loc='upper right', ncol=3)\n",
    "    plt.title(f'UMAP (n_neighbors={umap_n_neighbors}, '\n",
    "              f'min_dist={umap_min_dist}) '\n",
    "              f'visualization of conserved domains')\n",
    "    plt.tight_layout()\n",
    "    plt.savefig(os.path.join(\n",
    "        CDD_TSNE_IMAGE_DIR_PATH,\n",
    "        f'umap_{umap_n_neighbors}_{umap_min_dist}_cdd.png',\n",
    "    ))\n"
   ],
   "metadata": {
    "collapsed": false,
    "pycharm": {
     "name": "#%%\n"
    }
   }
  },
  {
   "cell_type": "code",
   "execution_count": null,
   "outputs": [],
   "source": [
    "for _pca_n_components in range(2, 51):\n",
    "    visualize_cdd_with_tsne(_pca_n_components)\n",
    "\n",
    "for _umap_n_neighbors in range(1, int(np.ceil(np.log2((len(cdd_master_seq_algn_feat_df) / 4))))):\n",
    "    _umap_n_neighbors = 2 ** _umap_n_neighbors\n",
    "    for _umap_min_dist in np.arange(0.09, 1, 0.1):\n",
    "        visualize_cdd_with_umap(_umap_n_neighbors, _umap_min_dist)\n"
   ],
   "metadata": {
    "collapsed": false,
    "pycharm": {
     "name": "#%%\n",
     "is_executing": true
    }
   }
  }
 ],
 "metadata": {
  "kernelspec": {
   "display_name": "Python 3",
   "language": "python",
   "name": "python3"
  },
  "language_info": {
   "codemirror_mode": {
    "name": "ipython",
    "version": 2
   },
   "file_extension": ".py",
   "mimetype": "text/x-python",
   "name": "python",
   "nbconvert_exporter": "python",
   "pygments_lexer": "ipython2",
   "version": "2.7.6"
  }
 },
 "nbformat": 4,
 "nbformat_minor": 0
}