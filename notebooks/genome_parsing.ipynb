{
 "cells": [
  {
   "cell_type": "markdown",
   "metadata": {
    "collapsed": true,
    "pycharm": {
     "name": "#%% md\n"
    }
   },
   "source": [
    "This notebook demonstrates how to parse genome download from [PATRIC](https://www.patricbrc.org/), including reading, CD searching, and printing.\n"
   ]
  },
  {
   "cell_type": "code",
   "source": [
    "import os\n",
    "import time\n",
    "\n",
    "from Bio import SeqIO\n",
    "from Bio.Blast.Applications import NcbirpsblastCommandline\n",
    "\n",
    "# path to CDD (conserved domain database) and related info\n",
    "CDD_PATH = os.path.abspath('../data/interim/CDD/Cdd')\n",
    "RPSBLAST_KWARGS = {\n",
    "    'db': CDD_PATH,\n",
    "    'seg': 'no',\n",
    "    'comp_based_stats': '1',\n",
    "    'evalue': 0.01,\n",
    "    'outfmt': 5,\n",
    "}\n",
    "\n",
    "# path to all the genomes (downloaded from PATRIC directly)\n",
    "GENOME_PARENT_PATH = './genome_parsing_examples'\n"
   ],
   "metadata": {
    "collapsed": false,
    "pycharm": {
     "name": "#%% imports, constants for paths and configurations\n"
    }
   },
   "execution_count": 3,
   "outputs": [
    {
     "name": "stdout",
     "output_type": "stream",
     "text": [
      "/Users/xduan7/projects/bioseq-learning/data/interim/CDD/cdd\n"
     ]
    }
   ]
  },
  {
   "cell_type": "markdown",
   "source": [
    "[PATRIC USER GUIDES/FTP](https://docs.patricbrc.org/user_guides/ftp.html):\n",
    "> Each genome directory provides the following data files for PATRIC and RefSeq annotations (when available).\n",
    "- fna: FASTA contig sequences\n",
    "- faa: FASTA protein sequence file\n",
    "- features.tab: All genomic features and related information in tab-delimited format\n",
    "- ffn: FASTA nucleotide sequences for genomic features, i.e. genes, RNAs, and other misc features\n",
    "- frn: FASTA nucleotide sequences for RNAs\n",
    "- gff: Genome annotations in GFF file format\n",
    "- pathway.tab: Metabolic pathway assignments in tab-delimited format\n",
    "- spgene.tab: Specialty gene assignments (i.e. AMR genes, virulance factors, essential genes, etc) in tab-delimited format\n",
    "- subsystem.tab: Subsystem assignments in tab-delimited format\n",
    "\n"
   ],
   "metadata": {
    "collapsed": false,
    "pycharm": {
     "name": "#%% md\n"
    }
   }
  },
  {
   "cell_type": "code",
   "execution_count": 2,
   "outputs": [
    {
     "name": "stdout",
     "output_type": "stream",
     "text": [
      "Genome 83333.84 contains 1 contig(s) and 4357 features (genes, RNAs, etc.)\n"
     ]
    },
    {
     "ename": "KeyboardInterrupt",
     "evalue": "",
     "output_type": "error",
     "traceback": [
      "\u001B[0;31m---------------------------------------------------------------------------\u001B[0m",
      "\u001B[0;31mKeyboardInterrupt\u001B[0m                         Traceback (most recent call last)",
      "\u001B[0;32m<ipython-input-2-15770fcaf75b>\u001B[0m in \u001B[0;36m<module>\u001B[0;34m\u001B[0m\n\u001B[1;32m     21\u001B[0m     \u001B[0m_start_time\u001B[0m \u001B[0;34m=\u001B[0m \u001B[0mtime\u001B[0m\u001B[0;34m.\u001B[0m\u001B[0mtime\u001B[0m\u001B[0;34m(\u001B[0m\u001B[0;34m)\u001B[0m\u001B[0;34m\u001B[0m\u001B[0;34m\u001B[0m\u001B[0m\n\u001B[1;32m     22\u001B[0m     \u001B[0m_cntg_rpsblast_cmd\u001B[0m \u001B[0;34m=\u001B[0m \u001B[0mNcbirpsblastCommandline\u001B[0m\u001B[0;34m(\u001B[0m\u001B[0mquery\u001B[0m\u001B[0;34m=\u001B[0m\u001B[0m_cntg_path\u001B[0m\u001B[0;34m,\u001B[0m \u001B[0;34m**\u001B[0m\u001B[0mRPSBLAST_KWARGS\u001B[0m\u001B[0;34m)\u001B[0m\u001B[0;34m\u001B[0m\u001B[0;34m\u001B[0m\u001B[0m\n\u001B[0;32m---> 23\u001B[0;31m     \u001B[0m_cntg_rpsblast_xml_result\u001B[0m\u001B[0;34m,\u001B[0m \u001B[0m_cntg_rpsblast_cmd_error_msg\u001B[0m \u001B[0;34m=\u001B[0m \u001B[0m_cntg_rpsblast_cmd\u001B[0m\u001B[0;34m(\u001B[0m\u001B[0;34m)\u001B[0m\u001B[0;34m\u001B[0m\u001B[0;34m\u001B[0m\u001B[0m\n\u001B[0m\u001B[1;32m     24\u001B[0m     \u001B[0mprint\u001B[0m\u001B[0;34m(\u001B[0m\u001B[0mtime\u001B[0m\u001B[0;34m.\u001B[0m\u001B[0mtime\u001B[0m\u001B[0;34m(\u001B[0m\u001B[0;34m)\u001B[0m \u001B[0;34m-\u001B[0m \u001B[0m_start_time\u001B[0m\u001B[0;34m)\u001B[0m\u001B[0;34m\u001B[0m\u001B[0;34m\u001B[0m\u001B[0m\n\u001B[1;32m     25\u001B[0m     \u001B[0;32mwith\u001B[0m \u001B[0mopen\u001B[0m\u001B[0;34m(\u001B[0m\u001B[0mos\u001B[0m\u001B[0;34m.\u001B[0m\u001B[0mpath\u001B[0m\u001B[0;34m.\u001B[0m\u001B[0mjoin\u001B[0m\u001B[0;34m(\u001B[0m\u001B[0mGENOME_PARENT_PATH\u001B[0m\u001B[0;34m,\u001B[0m \u001B[0;34m'rpsblast_contig_'\u001B[0m \u001B[0;34m+\u001B[0m \u001B[0m_genome_name\u001B[0m \u001B[0;34m+\u001B[0m \u001B[0;34m'.xml'\u001B[0m\u001B[0;34m)\u001B[0m\u001B[0;34m,\u001B[0m \u001B[0;34m'w+'\u001B[0m\u001B[0;34m)\u001B[0m \u001B[0;32mas\u001B[0m \u001B[0mf\u001B[0m\u001B[0;34m:\u001B[0m\u001B[0;34m\u001B[0m\u001B[0;34m\u001B[0m\u001B[0m\n",
      "\u001B[0;32m~/anaconda3/envs/bioseq/lib/python3.8/site-packages/Bio/Application/__init__.py\u001B[0m in \u001B[0;36m__call__\u001B[0;34m(self, stdin, stdout, stderr, cwd, env)\u001B[0m\n\u001B[1;32m    549\u001B[0m         )\n\u001B[1;32m    550\u001B[0m         \u001B[0;31m# Use .communicate as can get deadlocks with .wait(), see Bug 2804\u001B[0m\u001B[0;34m\u001B[0m\u001B[0;34m\u001B[0m\u001B[0;34m\u001B[0m\u001B[0m\n\u001B[0;32m--> 551\u001B[0;31m         \u001B[0mstdout_str\u001B[0m\u001B[0;34m,\u001B[0m \u001B[0mstderr_str\u001B[0m \u001B[0;34m=\u001B[0m \u001B[0mchild_process\u001B[0m\u001B[0;34m.\u001B[0m\u001B[0mcommunicate\u001B[0m\u001B[0;34m(\u001B[0m\u001B[0mstdin\u001B[0m\u001B[0;34m)\u001B[0m\u001B[0;34m\u001B[0m\u001B[0;34m\u001B[0m\u001B[0m\n\u001B[0m\u001B[1;32m    552\u001B[0m         \u001B[0;32mif\u001B[0m \u001B[0;32mnot\u001B[0m \u001B[0mstdout\u001B[0m\u001B[0;34m:\u001B[0m\u001B[0;34m\u001B[0m\u001B[0;34m\u001B[0m\u001B[0m\n\u001B[1;32m    553\u001B[0m             \u001B[0;32massert\u001B[0m \u001B[0;32mnot\u001B[0m \u001B[0mstdout_str\u001B[0m\u001B[0;34m,\u001B[0m \u001B[0mstdout_str\u001B[0m\u001B[0;34m\u001B[0m\u001B[0;34m\u001B[0m\u001B[0m\n",
      "\u001B[0;32m~/anaconda3/envs/bioseq/lib/python3.8/subprocess.py\u001B[0m in \u001B[0;36mcommunicate\u001B[0;34m(self, input, timeout)\u001B[0m\n\u001B[1;32m   1022\u001B[0m \u001B[0;34m\u001B[0m\u001B[0m\n\u001B[1;32m   1023\u001B[0m             \u001B[0;32mtry\u001B[0m\u001B[0;34m:\u001B[0m\u001B[0;34m\u001B[0m\u001B[0;34m\u001B[0m\u001B[0m\n\u001B[0;32m-> 1024\u001B[0;31m                 \u001B[0mstdout\u001B[0m\u001B[0;34m,\u001B[0m \u001B[0mstderr\u001B[0m \u001B[0;34m=\u001B[0m \u001B[0mself\u001B[0m\u001B[0;34m.\u001B[0m\u001B[0m_communicate\u001B[0m\u001B[0;34m(\u001B[0m\u001B[0minput\u001B[0m\u001B[0;34m,\u001B[0m \u001B[0mendtime\u001B[0m\u001B[0;34m,\u001B[0m \u001B[0mtimeout\u001B[0m\u001B[0;34m)\u001B[0m\u001B[0;34m\u001B[0m\u001B[0;34m\u001B[0m\u001B[0m\n\u001B[0m\u001B[1;32m   1025\u001B[0m             \u001B[0;32mexcept\u001B[0m \u001B[0mKeyboardInterrupt\u001B[0m\u001B[0;34m:\u001B[0m\u001B[0;34m\u001B[0m\u001B[0;34m\u001B[0m\u001B[0m\n\u001B[1;32m   1026\u001B[0m                 \u001B[0;31m# https://bugs.python.org/issue25942\u001B[0m\u001B[0;34m\u001B[0m\u001B[0;34m\u001B[0m\u001B[0;34m\u001B[0m\u001B[0m\n",
      "\u001B[0;32m~/anaconda3/envs/bioseq/lib/python3.8/subprocess.py\u001B[0m in \u001B[0;36m_communicate\u001B[0;34m(self, input, endtime, orig_timeout)\u001B[0m\n\u001B[1;32m   1864\u001B[0m                             'failed to raise TimeoutExpired.')\n\u001B[1;32m   1865\u001B[0m \u001B[0;34m\u001B[0m\u001B[0m\n\u001B[0;32m-> 1866\u001B[0;31m                     \u001B[0mready\u001B[0m \u001B[0;34m=\u001B[0m \u001B[0mselector\u001B[0m\u001B[0;34m.\u001B[0m\u001B[0mselect\u001B[0m\u001B[0;34m(\u001B[0m\u001B[0mtimeout\u001B[0m\u001B[0;34m)\u001B[0m\u001B[0;34m\u001B[0m\u001B[0;34m\u001B[0m\u001B[0m\n\u001B[0m\u001B[1;32m   1867\u001B[0m                     \u001B[0mself\u001B[0m\u001B[0;34m.\u001B[0m\u001B[0m_check_timeout\u001B[0m\u001B[0;34m(\u001B[0m\u001B[0mendtime\u001B[0m\u001B[0;34m,\u001B[0m \u001B[0morig_timeout\u001B[0m\u001B[0;34m,\u001B[0m \u001B[0mstdout\u001B[0m\u001B[0;34m,\u001B[0m \u001B[0mstderr\u001B[0m\u001B[0;34m)\u001B[0m\u001B[0;34m\u001B[0m\u001B[0;34m\u001B[0m\u001B[0m\n\u001B[1;32m   1868\u001B[0m \u001B[0;34m\u001B[0m\u001B[0m\n",
      "\u001B[0;32m~/anaconda3/envs/bioseq/lib/python3.8/selectors.py\u001B[0m in \u001B[0;36mselect\u001B[0;34m(self, timeout)\u001B[0m\n\u001B[1;32m    413\u001B[0m         \u001B[0mready\u001B[0m \u001B[0;34m=\u001B[0m \u001B[0;34m[\u001B[0m\u001B[0;34m]\u001B[0m\u001B[0;34m\u001B[0m\u001B[0;34m\u001B[0m\u001B[0m\n\u001B[1;32m    414\u001B[0m         \u001B[0;32mtry\u001B[0m\u001B[0;34m:\u001B[0m\u001B[0;34m\u001B[0m\u001B[0;34m\u001B[0m\u001B[0m\n\u001B[0;32m--> 415\u001B[0;31m             \u001B[0mfd_event_list\u001B[0m \u001B[0;34m=\u001B[0m \u001B[0mself\u001B[0m\u001B[0;34m.\u001B[0m\u001B[0m_selector\u001B[0m\u001B[0;34m.\u001B[0m\u001B[0mpoll\u001B[0m\u001B[0;34m(\u001B[0m\u001B[0mtimeout\u001B[0m\u001B[0;34m)\u001B[0m\u001B[0;34m\u001B[0m\u001B[0;34m\u001B[0m\u001B[0m\n\u001B[0m\u001B[1;32m    416\u001B[0m         \u001B[0;32mexcept\u001B[0m \u001B[0mInterruptedError\u001B[0m\u001B[0;34m:\u001B[0m\u001B[0;34m\u001B[0m\u001B[0;34m\u001B[0m\u001B[0m\n\u001B[1;32m    417\u001B[0m             \u001B[0;32mreturn\u001B[0m \u001B[0mready\u001B[0m\u001B[0;34m\u001B[0m\u001B[0;34m\u001B[0m\u001B[0m\n",
      "\u001B[0;31mKeyboardInterrupt\u001B[0m: "
     ]
    }
   ],
   "source": [
    "# get all the genome names (PATRIC ID)\n",
    "genome_names = next(os.walk(GENOME_PARENT_PATH))[1]\n",
    "\n",
    "\n",
    "# loop over all the genomes on parent path and perform parsing ...\n",
    "for _genome_name in genome_names:\n",
    "\n",
    "    _genome_path = os.path.join(GENOME_PARENT_PATH, _genome_name)\n",
    "\n",
    "    # get the nucleotide sequences (whole contig and the one with features only)\n",
    "    _cntg_path = os.path.join(_genome_path, _genome_name + '.fna')\n",
    "    _cntg_records = list(SeqIO.parse(_cntg_path, 'fasta'))\n",
    "    _feat_path = os.path.join(_genome_path, _genome_name + '.PATRIC.ffn')\n",
    "    _feat_records = list(SeqIO.parse(_feat_path, 'fasta'))\n",
    "\n",
    "    print(f'Genome {_genome_name} contains '\n",
    "          f'{len(_cntg_records)} contig(s) and '\n",
    "          f'{len(_feat_records)} features (genes, RNAs, etc.)')\n",
    "\n",
    "    # perform CD search for the contigs with measured time\n",
    "    _start_time = time.time()\n",
    "    _cntg_rpsblast_cmd = NcbirpsblastCommandline(query=_cntg_path, **RPSBLAST_KWARGS)\n",
    "    _cntg_rpsblast_xml_result, _cntg_rpsblast_cmd_error_msg = _cntg_rpsblast_cmd()\n",
    "    print(time.time() - _start_time)\n",
    "    with open(os.path.join(GENOME_PARENT_PATH, 'rpsblast_contig_' + _genome_name + '.xml'), 'w+') as f:\n",
    "        f.write(_cntg_rpsblast_xml_result)\n",
    "\n",
    "    # perform CD search for the features only with measure time\n",
    "    _start_time = time.time()\n",
    "    _feat_rpsblast_cmd = NcbirpsblastCommandline(query=_feat_path, **RPSBLAST_KWARGS)\n",
    "    _feat_rpsblast_xml_result, _feat_rpsblast_cmd_error_msg = _feat_rpsblast_cmd()\n",
    "    print(time.time() - _start_time)\n",
    "    with open(os.path.join(GENOME_PARENT_PATH, 'rpsblast_feature_' + _genome_name + '.xml'), 'w+') as f:\n",
    "        f.write(_feat_rpsblast_xml_result)\n",
    "\n",
    "    # TODO: make sure that the two CD searches have the same results ...\n"
   ],
   "metadata": {
    "collapsed": false,
    "pycharm": {
     "name": "#%%\n"
    }
   }
  }
 ],
 "metadata": {
  "kernelspec": {
   "display_name": "Python 3",
   "language": "python",
   "name": "python3"
  },
  "language_info": {
   "codemirror_mode": {
    "name": "ipython",
    "version": 2
   },
   "file_extension": ".py",
   "mimetype": "text/x-python",
   "name": "python",
   "nbconvert_exporter": "python",
   "pygments_lexer": "ipython2",
   "version": "2.7.6"
  }
 },
 "nbformat": 4,
 "nbformat_minor": 0
}