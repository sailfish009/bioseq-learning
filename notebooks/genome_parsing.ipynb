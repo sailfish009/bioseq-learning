{
 "cells": [
  {
   "cell_type": "markdown",
   "metadata": {
    "collapsed": true,
    "pycharm": {
     "name": "#%% md\n"
    }
   },
   "source": [
    "This notebook demonstrates how to parse genome download from [PATRIC](https://www.patricbrc.org/), including reading, CD searching, and printing.\n",
    "\n",
    "[PATRIC USER GUIDES/FTP](https://docs.patricbrc.org/user_guides/ftp.html):\n",
    "> Each genome directory provides the following data files for PATRIC and RefSeq annotations (when available).\n",
    "- fna: FASTA contig sequences\n",
    "- faa: FASTA protein sequence file\n",
    "- features.tab: All genomic features and related information in tab-delimited format\n",
    "- ffn: FASTA nucleotide sequences for genomic features, i.e. genes, RNAs, and other misc features\n",
    "- frn: FASTA nucleotide sequences for RNAs\n",
    "- gff: Genome annotations in GFF file format\n",
    "- pathway.tab: Metabolic pathway assignments in tab-delimited format\n",
    "- spgene.tab: Specialty gene assignments (i.e. AMR genes, virulance factors, essential genes, etc) in tab-delimited format\n",
    "- subsystem.tab: Subsystem assignments in tab-delimited format\n"
   ]
  },
  {
   "cell_type": "code",
   "source": [
    "import os\n",
    "import json\n",
    "import time\n",
    "\n",
    "import pandas as pd\n",
    "from Bio import SeqIO\n",
    "from Bio.Blast.Applications import NcbirpsblastCommandline\n",
    "\n",
    "# path to CDD (conserved domain database) and related info\n",
    "CDD_PATH = os.path.abspath('../data/interim/CDD/Cdd')\n",
    "RPSBLAST_KWARGS = {\n",
    "    'db': CDD_PATH,\n",
    "    'seg': 'no',\n",
    "    'comp_based_stats': '1',\n",
    "    'evalue': 0.01,\n",
    "    'outfmt': 5,\n",
    "}\n",
    "\n",
    "# path to all the genomes (downloaded from PATRIC directly)\n",
    "GENOME_PARENT_PATH = os.path.abspath('./genome_parsing_examples')\n"
   ],
   "metadata": {
    "collapsed": false,
    "pycharm": {
     "name": "#%% imports, constants for paths and configurations\n"
    }
   },
   "execution_count": 16,
   "outputs": []
  },
  {
   "cell_type": "code",
   "execution_count": 18,
   "outputs": [
    {
     "name": "stdout",
     "output_type": "stream",
     "text": [
      "Genome 83333.84 contains 1 contig(s) and 4357 features (genes, RNAs, etc.)\n",
      "Genome 562.2282 contains 248 contig(s) and 4196 features (genes, RNAs, etc.)\n",
      "Genome 37762.5 contains 1 contig(s) and 4477 features (genes, RNAs, etc.)\n"
     ]
    }
   ],
   "source": [
    "# get all the genome names (PATRIC ID)\n",
    "genome_ids = next(os.walk(GENOME_PARENT_PATH))[1]\n",
    "\n",
    "for _genome_id in genome_ids:\n",
    "    _genome_path = os.path.join(GENOME_PARENT_PATH, _genome_id)\n",
    "\n",
    "    # get the nucleotide sequences (whole contig and the one with features only)\n",
    "    _cntg_seq_path = os.path.join(_genome_path, _genome_id + '.fna')\n",
    "    _cntg_seq_records = list(SeqIO.parse(_cntg_seq_path, 'fasta'))\n",
    "    _feat_seq_path = os.path.join(_genome_path, _genome_id + '.PATRIC.ffn')\n",
    "    _feat_seq_records = list(SeqIO.parse(_feat_seq_path, 'fasta'))\n",
    "\n",
    "    print(f'Genome {_genome_id} contains '\n",
    "      f'{len(_cntg_seq_records)} contig(s) and '\n",
    "      f'{len(_feat_seq_records)} features (genes, RNAs, etc.)')\n",
    "\n",
    "    # make directory for contigs ...\n",
    "    _cntg_path = os.path.join(_genome_path, 'contigs')\n",
    "    if not os.path.isdir(_cntg_path):\n",
    "        os.makedirs(_cntg_path)\n",
    "\n",
    "    # split contigs and write into different files named with their IDs\n",
    "    _num_cntg = len(_cntg_seq_records)\n",
    "    _cntg_len_dict = {}\n",
    "    for _cntg_seq_record in _cntg_seq_records:\n",
    "        _cntg_len_dict[_cntg_seq_record.id] = len(_cntg_seq_record)\n",
    "        with open(os.path.join(_genome_path, 'contigs',  _cntg_seq_record.id + '.fa'), 'w+') as f:\n",
    "            SeqIO.write(_cntg_seq_record, f, 'fasta')\n",
    "\n",
    "    # split features for each and every contig the same way\n",
    "    # features are saved in TSV format (default pandas setting)\n",
    "    _feat_path = os.path.join(_genome_path, 'features')\n",
    "    if not os.path.isdir(_feat_path):\n",
    "        os.makedirs(_feat_path)\n",
    "    _feat_df = pd.read_table(os.path.join(_genome_path, _genome_id + '.PATRIC.features.tab'))\n",
    "    for _accession, _feat_by_accession_df in _feat_df.groupby('accession'):\n",
    "        _source_mask = _feat_by_accession_df['feature_type'] == 'source'\n",
    "        _feat_by_accession_df[~_source_mask].to_csv(os.path.join(_feat_path, f'{_accession}.tsv'), index=None, sep='\\t')\n",
    "\n",
    "    # create an information file that contains\n",
    "    # - genome name\n",
    "    # - number of contigs\n",
    "    # - each contig accession and its length\n",
    "    _genome_info = {\n",
    "        'genome_name': _feat_df['genome_name'].unique()[0],\n",
    "        'number_of_contigs': _num_cntg,\n",
    "        'lengths_of_contigs': _cntg_len_dict,\n",
    "    }\n",
    "\n",
    "    with open(os.path.join(_genome_path, 'info.json'), 'w+') as f:\n",
    "        json.dump(_genome_info, f, indent=4)\n"
   ],
   "metadata": {
    "collapsed": false,
    "pycharm": {
     "name": "#%% seperate contigs (both sequences and their features)\n"
    }
   }
  },
  {
   "cell_type": "code",
   "execution_count": null,
   "outputs": [],
   "source": [
    "# each genome takes 2.5 - 4 hours on lambda, and fewer contigs = longer computation time\n",
    "# this segment of code is commented out for extremely long execution time ...\n",
    "# the results are retrieved directly from remote host (lambda)\n",
    "pass\n",
    "\n",
    "# for _genome_id in genome_ids:\n",
    "#     _genome_path = os.path.join(GENOME_PARENT_PATH, _genome_id)\n",
    "#\n",
    "#     # get the nucleotide sequences (whole contig and the one with features only)\n",
    "#     _cntg_seq_path = os.path.join(_genome_path, _genome_id + '.fna')\n",
    "#     _feat_seq_path = os.path.join(_genome_path, _genome_id + '.PATRIC.ffn')\n",
    "#\n",
    "#     # perform CD search for the contigs with measured time\n",
    "#     _start_time = time.time()\n",
    "#     _cntg_rpsblast_cmd = NcbirpsblastCommandline(query=_cntg_seq_path, **RPSBLAST_KWARGS)\n",
    "#     _cntg_rpsblast_xml_result, _cntg_rpsblast_cmd_error_msg = _cntg_rpsblast_cmd()\n",
    "#     _exe_time = (time.time() - _start_time).strftime('%H hours, %M minutes, and %S seconds')\n",
    "#     print(f'The execution time for RPSBLAST (conserved domain search) on all genome contigs is {_exe_time}')\n",
    "#     with open(os.path.join(_genome_path, _genome_id + '.contig_rpsblast.xml'), 'w+') as f:\n",
    "#         f.write(_cntg_rpsblast_xml_result)\n",
    "#\n",
    "#     # perform CD search for the features only with measure time\n",
    "#     _start_time = time.time()\n",
    "#     _feat_rpsblast_cmd = NcbirpsblastCommandline(query=_feat_seq_path, **RPSBLAST_KWARGS)\n",
    "#     _feat_rpsblast_xml_result, _feat_rpsblast_cmd_error_msg = _feat_rpsblast_cmd()\n",
    "#     _exe_time = (time.time() - _start_time).strftime('%H hours, %M minutes, and %S seconds')\n",
    "#     print(f'The execution time for RPSBLAST (conserved domain search) on genome features is {_exe_time}')\n",
    "#     with open(os.path.join(_genome_path, _genome_id + '.feature_rpsblast.xml'), 'w+') as f:\n",
    "#         f.write(_feat_rpsblast_xml_result)\n"
   ],
   "metadata": {
    "collapsed": false,
    "pycharm": {
     "name": "#%% conserved domain search over the contigs and features\n"
    }
   }
  },
  {
   "cell_type": "code",
   "execution_count": null,
   "outputs": [],
   "source": [
    "\n"
   ],
   "metadata": {
    "collapsed": false,
    "pycharm": {
     "name": "#%% compared the conserved domain search results from contigs and features\n"
    }
   }
  }
 ],
 "metadata": {
  "kernelspec": {
   "name": "pycharm-de1f634c",
   "language": "python",
   "display_name": "PyCharm (bioseq-learning)"
  },
  "language_info": {
   "codemirror_mode": {
    "name": "ipython",
    "version": 2
   },
   "file_extension": ".py",
   "mimetype": "text/x-python",
   "name": "python",
   "nbconvert_exporter": "python",
   "pygments_lexer": "ipython2",
   "version": "2.7.6"
  }
 },
 "nbformat": 4,
 "nbformat_minor": 0
}