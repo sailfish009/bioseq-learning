{
 "cells": [
  {
   "cell_type": "markdown",
   "metadata": {
    "collapsed": true,
    "pycharm": {
     "name": "#%% md\n"
    }
   },
   "source": [
    "This notebook demonstrates how to parse genome download from [PATRIC](https://www.patricbrc.org/), including reading, CD searching, and printing.\n"
   ]
  },
  {
   "cell_type": "code",
   "source": [
    "import os\n",
    "import time\n",
    "\n",
    "from Bio import SeqIO\n",
    "from Bio.Blast.Applications import NcbirpsblastCommandline\n",
    "\n",
    "# path to CDD (conserved domain database) and related info\n",
    "CDD_PATH = '../data/interim/CDD/cdd'\n",
    "RPSBLAST_KWARGS = {\n",
    "    'db': CDD_PATH,\n",
    "    'seg': 'no',\n",
    "    'comp_based_stats': '1',\n",
    "    'evalue': 0.01,\n",
    "    'outfmt': 5,\n",
    "}\n",
    "\n",
    "# path to all the genomes (downloaded from PATRIC directly)\n",
    "GENOME_PARENT_PATH = './genome_parsing_examples'\n"
   ],
   "metadata": {
    "collapsed": false,
    "pycharm": {
     "name": "#%% imports, constants for paths and configurations\n"
    }
   },
   "execution_count": 1,
   "outputs": []
  },
  {
   "cell_type": "markdown",
   "source": [
    "[PATRIC USER GUIDES/FTP](https://docs.patricbrc.org/user_guides/ftp.html):\n",
    "> Each genome directory provides the following data files for PATRIC and RefSeq annotations (when available).\n",
    "- fna: FASTA contig sequences\n",
    "- faa: FASTA protein sequence file\n",
    "- features.tab: All genomic features and related information in tab-delimited format\n",
    "- ffn: FASTA nucleotide sequences for genomic features, i.e. genes, RNAs, and other misc features\n",
    "- frn: FASTA nucleotide sequences for RNAs\n",
    "- gff: Genome annotations in GFF file format\n",
    "- pathway.tab: Metabolic pathway assignments in tab-delimited format\n",
    "- spgene.tab: Specialty gene assignments (i.e. AMR genes, virulance factors, essential genes, etc) in tab-delimited format\n",
    "- subsystem.tab: Subsystem assignments in tab-delimited format\n",
    "\n"
   ],
   "metadata": {
    "collapsed": false,
    "pycharm": {
     "name": "#%% md\n"
    }
   }
  },
  {
   "cell_type": "code",
   "execution_count": null,
   "outputs": [
    {
     "name": "stdout",
     "output_type": "stream",
     "text": [
      "Genome 83333.84 contains 1 contig(s) and 4357 features (genes, RNAs, etc.)\n"
     ]
    }
   ],
   "source": [
    "# get all the genome names (PATRIC ID)\n",
    "genome_names = next(os.walk(GENOME_PARENT_PATH))[1]\n",
    "\n",
    "\n",
    "# loop over all the genomes on parent path and perform parsing ...\n",
    "for _genome_name in genome_names:\n",
    "\n",
    "    _genome_path = os.path.join(GENOME_PARENT_PATH, _genome_name)\n",
    "\n",
    "    # get the nucleotide sequences (whole contig and the one with features only)\n",
    "    _cntg_path = os.path.join(_genome_path, _genome_name + '.fna')\n",
    "    _cntg_records = list(SeqIO.parse(_cntg_path, 'fasta'))\n",
    "    _feat_path = os.path.join(_genome_path, _genome_name + '.PATRIC.ffn')\n",
    "    _feat_records = list(SeqIO.parse(_feat_path, 'fasta'))\n",
    "\n",
    "    print(f'Genome {_genome_name} contains '\n",
    "          f'{len(_cntg_records)} contig(s) and '\n",
    "          f'{len(_feat_records)} features (genes, RNAs, etc.)')\n",
    "\n",
    "    # perform CD search for the contigs with measured time\n",
    "    _start_time = time.time()\n",
    "    _cntg_rpsblast_cmd = NcbirpsblastCommandline(query=_cntg_path, **RPSBLAST_KWARGS)\n",
    "    _cntg_rpsblast_xml_result, _cntg_rpsblast_cmd_error_msg = _cntg_rpsblast_cmd()\n",
    "    print(time.time() - _start_time)\n",
    "    with open(os.path.join(GENOME_PARENT_PATH, 'rpsblast_contig_' + _genome_name + '.xml'), 'w+') as f:\n",
    "        f.write(_cntg_rpsblast_xml_result)\n",
    "\n",
    "    # perform CD search for the features only with measure time\n",
    "    _start_time = time.time()\n",
    "    _feat_rpsblast_cmd = NcbirpsblastCommandline(query=_feat_path, **RPSBLAST_KWARGS)\n",
    "    _feat_rpsblast_xml_result, _feat_rpsblast_cmd_error_msg = _feat_rpsblast_cmd()\n",
    "    print(time.time() - _start_time)\n",
    "    with open(os.path.join(GENOME_PARENT_PATH, 'rpsblast_feature_' + _genome_name + '.xml'), 'w+') as f:\n",
    "        f.write(_feat_rpsblast_xml_result)\n",
    "\n",
    "    # TODO: make sure that the two CD searches have the same results ...\n"
   ],
   "metadata": {
    "collapsed": false,
    "pycharm": {
     "name": "#%%\n",
     "is_executing": true
    }
   }
  }
 ],
 "metadata": {
  "kernelspec": {
   "display_name": "Python 3",
   "language": "python",
   "name": "python3"
  },
  "language_info": {
   "codemirror_mode": {
    "name": "ipython",
    "version": 2
   },
   "file_extension": ".py",
   "mimetype": "text/x-python",
   "name": "python",
   "nbconvert_exporter": "python",
   "pygments_lexer": "ipython2",
   "version": "2.7.6"
  }
 },
 "nbformat": 4,
 "nbformat_minor": 0
}