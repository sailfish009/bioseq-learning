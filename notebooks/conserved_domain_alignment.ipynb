{
 "cells": [
  {
   "cell_type": "markdown",
   "metadata": {
    "collapsed": true,
    "pycharm": {
     "name": "#%% md\n"
    }
   },
   "source": [
    "This notebook experiments the alignment between two conserved domain FASTA files.\n"
   ]
  },
  {
   "cell_type": "code",
   "execution_count": 46,
   "outputs": [],
   "source": [
    "import os\n",
    "\n",
    "import numpy as np\n",
    "import pandas as pd\n",
    "from Bio import SeqIO\n",
    "from skbio.sequence import Protein\n",
    "from skbio.alignment import local_pairwise_align_ssw\n",
    "\n",
    "# path to the example FASTA sequences for conserved domains (downloaded from PATRIC directly)\n",
    "SEQUENCE_PARENT_PATH = os.path.abspath('./examples/conserved_domain_alignment/')\n",
    "CD1_SEQUENCE_PATH = os.path.join(SEQUENCE_PARENT_PATH, 'cd00001.FASTA')\n",
    "CD2_SEQUENCE_PATH = os.path.join(SEQUENCE_PARENT_PATH, 'cd00001.FASTA')\n"
   ],
   "metadata": {
    "collapsed": false,
    "pycharm": {
     "name": "#%%\n"
    }
   }
  },
  {
   "cell_type": "code",
   "execution_count": 47,
   "outputs": [],
   "source": [
    "blosum62_df = pd.read_csv(\n",
    "    'https://www.ncbi.nlm.nih.gov/Class/FieldGuide/BLOSUM62.txt',\n",
    "    sep='\\s+',\n",
    "    index_col=0,\n",
    "    header=0,\n",
    "    skiprows=6,\n",
    ")\n",
    "# add a column and a row for gap\n",
    "blosum62_df['-'] = 0\n",
    "blosum62_df.loc['-'] = 0\n",
    "blosum62_dict = blosum62_df.to_dict()\n"
   ],
   "metadata": {
    "collapsed": false,
    "pycharm": {
     "name": "#%% prepare for the dictionary substitution matrix (BLOSUM62)\n"
    }
   }
  },
  {
   "cell_type": "code",
   "execution_count": 48,
   "outputs": [],
   "source": [
    "cd1_seq_records = list(SeqIO.parse(CD1_SEQUENCE_PATH, 'fasta'))\n",
    "cd2_seq_records = list(SeqIO.parse(CD2_SEQUENCE_PATH, 'fasta'))\n",
    "cd1_consensus_seq = str(cd1_seq_records[0].seq)\n",
    "cd2_consensus_seq = str(cd2_seq_records[0].seq)\n",
    "\n",
    "# Smith Waterman alignment for the consensus sequences\n",
    "tabular_msa, alignment_score, position_list = local_pairwise_align_ssw(\n",
    "    sequence1=Protein(cd1_consensus_seq),\n",
    "    sequence2=Protein(cd2_consensus_seq),\n",
    "    substitution_matrix=blosum62_dict,\n",
    "    protein=True,\n",
    ")\n"
   ],
   "metadata": {
    "collapsed": false,
    "pycharm": {
     "name": "#%% align consensus sequences\n"
    }
   }
  },
  {
   "cell_type": "code",
   "execution_count": 49,
   "outputs": [
    {
     "name": "stdout",
     "output_type": "stream",
     "text": [
      "1.5517301204819276\n"
     ]
    }
   ],
   "source": [
    "cd1_seq_start, cd1_seq_end = position_list[0][0], position_list[0][1] + 1\n",
    "cd2_seq_start, cd2_seq_end = position_list[1][0], position_list[1][1] + 1\n",
    "scores = []\n",
    "for _cd1_seq_record in cd1_seq_records[1:]:\n",
    "    for _cd2_seq_record in cd2_seq_records[1:]:\n",
    "        _, _score, _ = local_pairwise_align_ssw(\n",
    "            sequence1=Protein(str(_cd1_seq_record.seq)[cd1_seq_start:cd1_seq_end]),\n",
    "            sequence2=Protein(str(_cd2_seq_record.seq)[cd2_seq_start:cd2_seq_end]),\n",
    "            substitution_matrix=blosum62_dict,\n",
    "            protein=True,\n",
    "            # score_only=True,\n",
    "        )\n",
    "        scores.append(_score)\n",
    "\n",
    "print(np.average(scores) / tabular_msa.shape[1])"
   ],
   "metadata": {
    "collapsed": false,
    "pycharm": {
     "name": "#%% perform N-to-M alignment and normalize the score with alignment length\n"
    }
   }
  }
 ],
 "metadata": {
  "kernelspec": {
   "display_name": "Python 3",
   "language": "python",
   "name": "python3"
  },
  "language_info": {
   "codemirror_mode": {
    "name": "ipython",
    "version": 2
   },
   "file_extension": ".py",
   "mimetype": "text/x-python",
   "name": "python",
   "nbconvert_exporter": "python",
   "pygments_lexer": "ipython2",
   "version": "2.7.6"
  }
 },
 "nbformat": 4,
 "nbformat_minor": 0
}